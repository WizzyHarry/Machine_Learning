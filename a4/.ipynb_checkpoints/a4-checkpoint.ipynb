{
 "cells": [
  {
   "cell_type": "markdown",
   "id": "338b9816-9546-4dfc-a549-a9b2a9f36cb3",
   "metadata": {},
   "source": [
    "## Assignment 4 - Predictive Analysis (Simple Linear Regression)\n",
    "\n",
    "**Developer:** Keith Faunce\n",
    "\n",
    "**Course:** Artifical Intelligence Applications\n",
    "\n",
    "**Program Requirements:**\n",
    "  1. Contrast similarites/differences among AI vs. Machine-Learning vs. Deep-Learning\n",
    "  2. Identify correlations\n",
    "  3. Use Seabron (data visualization library built on matplotlib)\n",
    "  4. Graph correlations\n",
    "  5. Use simple linear regression\n",
    "  6. Create linear model\n",
    "  7. Plot regression line\n",
    "  8. Make predictions - using simple linear regression model\n",
    "  9. Plot Residuals"
   ]
  },
  {
   "cell_type": "markdown",
   "id": "5e267f04-6ade-4662-ab92-acc61b2c61dc",
   "metadata": {},
   "source": [
    "## Regression Analysis\n",
    "\n",
    "### What is regression analysis?\n",
    "  1. Equation predicts **\"unknown values\"** (*dependent variables*) based upon one or more known values (*independent variables*)\n",
    "  2. **Dependent variables (also called):** *response, outcome/output* or target variables (respond to changes in other variable(s)\n",
    "  3. **Independent variables (also called):** *predictor, input, regressor, or explanatory variable(s)* (predict/explain changed values of dependent variable(s)\n",
    "  4. **Goal:** Find the best fitting line which can accurately predict the output.\n",
    "\n",
    "*Dependent* variables (**output on y-axis**) are always the ones being studied--that is, whose variation(s) are being modified\n",
    "\n",
    "*Independent* variables (**input on x-axis**) are always the ones being manipulated, to study and compare the effects on the dependent variable(s).\n",
    "\n",
    "**Note:** Based on the number of input and output variables, linear regression has three types:\n",
    "  1. Simple linear regression (1 DV/1 IV)\n",
    "  2. Multiple linear regression (1 DV/2 or more IVs)\n",
    "  3. Multivariate linear regression (2 or more DVs/2 or more IVs)\n",
    "\n",
    "**Simple linear regression:** Only **one** independent variable affecting **one** dependent variable.\n",
    "\n",
    "**Multiple linear regression: Two or more** independent variables affecting **one** dependent variable.\n",
    "\n",
    "**Multivariate linear regression: Two or more** independent variables affecting **two or more** dependent variable."
   ]
  },
  {
   "cell_type": "markdown",
   "id": "c4f3e32c-d91b-4316-a2c4-2d475b5b4d91",
   "metadata": {},
   "source": [
    "## Independent variables vs. Dependent variables\n",
    "\n",
    "**Independent Variables (predictors):**\n",
    "  - Can the variable(s) be manipulated or controlled?\n",
    "  - Do(es) the variable(s) come before the other variable(s) chronologically?\n",
    "  - Is/are the variables being used to see the affects on other variable(s)?\n",
    "\n",
    "**Dependent variables (outcomes):**\n",
    "  - Is/are the variable(s) being used as measured outcome(s)?\n",
    "  - Do(es) the variable(s) depend upon other variable(s)?\n",
    "  - Is/are these variable(s) measured after other variable(s) are modified?"
   ]
  },
  {
   "cell_type": "markdown",
   "id": "1710a202-777f-4650-b991-a2f193517c48",
   "metadata": {},
   "source": [
    "## Supervised vs. Unsupervised Learning\n",
    "\n",
    "  - Supervised learning: prior knowledge of what output values for samples should be.\n",
    "  - Unsupervised learning: does not have label outputs. Goal is to infer natural structure present within a set of data points.\n",
    "\n",
    "**References:** https://www.ibm.com/cloud/blog/supervised-vs-unsupervised-learning\n",
    "\n",
    "https://wwww.seldon.io/supervised-vs-unsupervised-learning-explained"
   ]
  },
  {
   "cell_type": "code",
   "execution_count": 1,
   "id": "50420d4a-a5c2-41ce-a91c-cc10d27e56b4",
   "metadata": {},
   "outputs": [],
   "source": [
    "# import pandas and numpy libraries to perform mathimatical functions\n",
    "import numpy as np\n",
    "import pandas as pd"
   ]
  },
  {
   "cell_type": "markdown",
   "id": "5b71a457-9f06-443a-b611-723d304e44d1",
   "metadata": {},
   "source": [
    "## Get data - read cleaned .csv file"
   ]
  },
  {
   "cell_type": "code",
   "execution_count": 3,
   "id": "15e336d8-0c8d-40be-b5a2-be771aacd1eb",
   "metadata": {},
   "outputs": [
    {
     "data": {
      "text/html": [
       "<div>\n",
       "<style scoped>\n",
       "    .dataframe tbody tr th:only-of-type {\n",
       "        vertical-align: middle;\n",
       "    }\n",
       "\n",
       "    .dataframe tbody tr th {\n",
       "        vertical-align: top;\n",
       "    }\n",
       "\n",
       "    .dataframe thead th {\n",
       "        text-align: right;\n",
       "    }\n",
       "</style>\n",
       "<table border=\"1\" class=\"dataframe\">\n",
       "  <thead>\n",
       "    <tr style=\"text-align: right;\">\n",
       "      <th></th>\n",
       "      <th>TV</th>\n",
       "      <th>Radio</th>\n",
       "      <th>Newspaper</th>\n",
       "      <th>Sales</th>\n",
       "    </tr>\n",
       "  </thead>\n",
       "  <tbody>\n",
       "    <tr>\n",
       "      <th>0</th>\n",
       "      <td>230.1</td>\n",
       "      <td>37.8</td>\n",
       "      <td>69.2</td>\n",
       "      <td>22.1</td>\n",
       "    </tr>\n",
       "    <tr>\n",
       "      <th>1</th>\n",
       "      <td>44.5</td>\n",
       "      <td>39.3</td>\n",
       "      <td>45.1</td>\n",
       "      <td>10.4</td>\n",
       "    </tr>\n",
       "    <tr>\n",
       "      <th>2</th>\n",
       "      <td>17.2</td>\n",
       "      <td>45.9</td>\n",
       "      <td>69.3</td>\n",
       "      <td>12.0</td>\n",
       "    </tr>\n",
       "    <tr>\n",
       "      <th>3</th>\n",
       "      <td>151.5</td>\n",
       "      <td>41.3</td>\n",
       "      <td>58.5</td>\n",
       "      <td>16.5</td>\n",
       "    </tr>\n",
       "    <tr>\n",
       "      <th>4</th>\n",
       "      <td>180.8</td>\n",
       "      <td>10.8</td>\n",
       "      <td>58.4</td>\n",
       "      <td>17.9</td>\n",
       "    </tr>\n",
       "    <tr>\n",
       "      <th>...</th>\n",
       "      <td>...</td>\n",
       "      <td>...</td>\n",
       "      <td>...</td>\n",
       "      <td>...</td>\n",
       "    </tr>\n",
       "    <tr>\n",
       "      <th>195</th>\n",
       "      <td>38.2</td>\n",
       "      <td>3.7</td>\n",
       "      <td>13.8</td>\n",
       "      <td>7.6</td>\n",
       "    </tr>\n",
       "    <tr>\n",
       "      <th>196</th>\n",
       "      <td>94.2</td>\n",
       "      <td>4.9</td>\n",
       "      <td>8.1</td>\n",
       "      <td>14.0</td>\n",
       "    </tr>\n",
       "    <tr>\n",
       "      <th>197</th>\n",
       "      <td>177.0</td>\n",
       "      <td>9.3</td>\n",
       "      <td>6.4</td>\n",
       "      <td>14.8</td>\n",
       "    </tr>\n",
       "    <tr>\n",
       "      <th>198</th>\n",
       "      <td>283.6</td>\n",
       "      <td>42.0</td>\n",
       "      <td>66.2</td>\n",
       "      <td>25.5</td>\n",
       "    </tr>\n",
       "    <tr>\n",
       "      <th>199</th>\n",
       "      <td>232.1</td>\n",
       "      <td>8.6</td>\n",
       "      <td>8.7</td>\n",
       "      <td>18.4</td>\n",
       "    </tr>\n",
       "  </tbody>\n",
       "</table>\n",
       "<p>200 rows × 4 columns</p>\n",
       "</div>"
      ],
      "text/plain": [
       "        TV  Radio  Newspaper  Sales\n",
       "0    230.1   37.8       69.2   22.1\n",
       "1     44.5   39.3       45.1   10.4\n",
       "2     17.2   45.9       69.3   12.0\n",
       "3    151.5   41.3       58.5   16.5\n",
       "4    180.8   10.8       58.4   17.9\n",
       "..     ...    ...        ...    ...\n",
       "195   38.2    3.7       13.8    7.6\n",
       "196   94.2    4.9        8.1   14.0\n",
       "197  177.0    9.3        6.4   14.8\n",
       "198  283.6   42.0       66.2   25.5\n",
       "199  232.1    8.6        8.7   18.4\n",
       "\n",
       "[200 rows x 4 columns]"
      ]
     },
     "execution_count": 3,
     "metadata": {},
     "output_type": "execute_result"
    }
   ],
   "source": [
    "# read csv file\n",
    "advertising_data = pd.read_csv(\"my_company_data.csv\")\n",
    "\n",
    "# display first and last 5 rows\n",
    "advertising_data"
   ]
  },
  {
   "cell_type": "markdown",
   "id": "71f0600c-2329-419b-aefa-554f63d4ede3",
   "metadata": {},
   "source": [
    "## Analyze dataset"
   ]
  },
  {
   "cell_type": "code",
   "execution_count": 4,
   "id": "ec3c5e84-adf1-4a9a-8cc8-e034ecd6d597",
   "metadata": {},
   "outputs": [
    {
     "data": {
      "text/plain": [
       "(200, 4)"
      ]
     },
     "execution_count": 4,
     "metadata": {},
     "output_type": "execute_result"
    }
   ],
   "source": [
    "# print num of rows and cols\n",
    "advertising_data.shape"
   ]
  },
  {
   "cell_type": "code",
   "execution_count": 5,
   "id": "64f16efe-5eec-4751-a090-3b1e4e86e897",
   "metadata": {},
   "outputs": [
    {
     "name": "stdout",
     "output_type": "stream",
     "text": [
      "<class 'pandas.core.frame.DataFrame'>\n",
      "RangeIndex: 200 entries, 0 to 199\n",
      "Data columns (total 4 columns):\n",
      " #   Column     Non-Null Count  Dtype  \n",
      "---  ------     --------------  -----  \n",
      " 0   TV         200 non-null    float64\n",
      " 1   Radio      200 non-null    float64\n",
      " 2   Newspaper  200 non-null    float64\n",
      " 3   Sales      200 non-null    float64\n",
      "dtypes: float64(4)\n",
      "memory usage: 6.4 KB\n"
     ]
    }
   ],
   "source": [
    "# print dataframe info\n",
    "advertising_data.info()"
   ]
  },
  {
   "cell_type": "code",
   "execution_count": 6,
   "id": "dc6eccd2-b289-4175-8e41-a567eac24176",
   "metadata": {},
   "outputs": [
    {
     "name": "stdout",
     "output_type": "stream",
     "text": [
      "          TV  Radio  Newspaper  Sales\n",
      "count 200.00 200.00     200.00 200.00\n",
      "mean  147.04  23.26      30.55  15.13\n",
      "std    85.85  14.85      21.78   5.28\n",
      "min     0.70   0.00       0.30   1.60\n",
      "25%    74.38   9.97      12.75  11.00\n",
      "50%   149.75  22.90      25.75  16.00\n",
      "75%   218.82  36.52      45.10  19.05\n",
      "max   296.40  49.60     114.00  27.00\n"
     ]
    }
   ],
   "source": [
    "# print dataframe stats summary\n",
    "advertising_data.describe()\n",
    "\n",
    "# format entire dataframe to 2 decimal places\n",
    "pd.options.display.float_format = \"{:,.2f}\".format\n",
    "\n",
    "print(advertising_data.describe())"
   ]
  },
  {
   "cell_type": "code",
   "execution_count": 7,
   "id": "1fddccdf-8baa-4d07-bc26-1bdab56b2c7c",
   "metadata": {},
   "outputs": [
    {
     "data": {
      "text/html": [
       "<div>\n",
       "<style scoped>\n",
       "    .dataframe tbody tr th:only-of-type {\n",
       "        vertical-align: middle;\n",
       "    }\n",
       "\n",
       "    .dataframe tbody tr th {\n",
       "        vertical-align: top;\n",
       "    }\n",
       "\n",
       "    .dataframe thead th {\n",
       "        text-align: right;\n",
       "    }\n",
       "</style>\n",
       "<table border=\"1\" class=\"dataframe\">\n",
       "  <thead>\n",
       "    <tr style=\"text-align: right;\">\n",
       "      <th></th>\n",
       "      <th>TV</th>\n",
       "      <th>Radio</th>\n",
       "      <th>Newspaper</th>\n",
       "      <th>Sales</th>\n",
       "    </tr>\n",
       "  </thead>\n",
       "  <tbody>\n",
       "    <tr>\n",
       "      <th>TV</th>\n",
       "      <td>1.00</td>\n",
       "      <td>0.05</td>\n",
       "      <td>0.06</td>\n",
       "      <td>0.90</td>\n",
       "    </tr>\n",
       "    <tr>\n",
       "      <th>Radio</th>\n",
       "      <td>0.05</td>\n",
       "      <td>1.00</td>\n",
       "      <td>0.35</td>\n",
       "      <td>0.35</td>\n",
       "    </tr>\n",
       "    <tr>\n",
       "      <th>Newspaper</th>\n",
       "      <td>0.06</td>\n",
       "      <td>0.35</td>\n",
       "      <td>1.00</td>\n",
       "      <td>0.16</td>\n",
       "    </tr>\n",
       "    <tr>\n",
       "      <th>Sales</th>\n",
       "      <td>0.90</td>\n",
       "      <td>0.35</td>\n",
       "      <td>0.16</td>\n",
       "      <td>1.00</td>\n",
       "    </tr>\n",
       "  </tbody>\n",
       "</table>\n",
       "</div>"
      ],
      "text/plain": [
       "            TV  Radio  Newspaper  Sales\n",
       "TV        1.00   0.05       0.06   0.90\n",
       "Radio     0.05   1.00       0.35   0.35\n",
       "Newspaper 0.06   0.35       1.00   0.16\n",
       "Sales     0.90   0.35       0.16   1.00"
      ]
     },
     "execution_count": 7,
     "metadata": {},
     "output_type": "execute_result"
    }
   ],
   "source": [
    "# display pairwise correlations of all cols in dataframe\n",
    "advertising_data.corr().head()"
   ]
  },
  {
   "cell_type": "code",
   "execution_count": 8,
   "id": "740d3855-352f-44e3-99cf-ce67b19300ca",
   "metadata": {},
   "outputs": [],
   "source": [
    "# import matplotlib & seaborn libraries for data visualization\n",
    "import matplotlib.pyplot as plt\n",
    "import seaborn as sns"
   ]
  },
  {
   "cell_type": "code",
   "execution_count": 9,
   "id": "5b35494b-de4d-426a-a59a-61395889159c",
   "metadata": {},
   "outputs": [
    {
     "data": {
      "image/png": "[encoded data removed]",
      "text/plain": [
       "<Figure size 1200x400 with 3 Axes>"
      ]
     },
     "metadata": {},
     "output_type": "display_data"
    }
   ],
   "source": [
    "# visualize data for correlations using pairplot()\n",
    "# pairplot(): Plot pairwise relationships in dataset\n",
    "sns.pairplot(advertising_data, x_vars=['TV', 'Radio', 'Newspaper'], y_vars='Sales', height=4, aspect=1, kind='scatter')\n",
    "plt.show()"
   ]
  },
  {
   "cell_type": "code",
   "execution_count": 10,
   "id": "b3326009-44e9-4b45-b963-9b9538a77dfe",
   "metadata": {},
   "outputs": [
    {
     "data": {
      "text/html": [
       "<div>\n",
       "<style scoped>\n",
       "    .dataframe tbody tr th:only-of-type {\n",
       "        vertical-align: middle;\n",
       "    }\n",
       "\n",
       "    .dataframe tbody tr th {\n",
       "        vertical-align: top;\n",
       "    }\n",
       "\n",
       "    .dataframe thead th {\n",
       "        text-align: right;\n",
       "    }\n",
       "</style>\n",
       "<table border=\"1\" class=\"dataframe\">\n",
       "  <thead>\n",
       "    <tr style=\"text-align: right;\">\n",
       "      <th></th>\n",
       "      <th>Sales</th>\n",
       "    </tr>\n",
       "  </thead>\n",
       "  <tbody>\n",
       "    <tr>\n",
       "      <th>Sales</th>\n",
       "      <td>1.00</td>\n",
       "    </tr>\n",
       "    <tr>\n",
       "      <th>TV</th>\n",
       "      <td>0.90</td>\n",
       "    </tr>\n",
       "    <tr>\n",
       "      <th>Radio</th>\n",
       "      <td>0.35</td>\n",
       "    </tr>\n",
       "    <tr>\n",
       "      <th>Newspaper</th>\n",
       "      <td>0.16</td>\n",
       "    </tr>\n",
       "  </tbody>\n",
       "</table>\n",
       "</div>"
      ],
      "text/plain": [
       "           Sales\n",
       "Sales       1.00\n",
       "TV          0.90\n",
       "Radio       0.35\n",
       "Newspaper   0.16"
      ]
     },
     "execution_count": 10,
     "metadata": {},
     "output_type": "execute_result"
    }
   ],
   "source": [
    "# display one attributes correlation (sales) to all other cols in dataframe\n",
    "advertising_data.corr()[['Sales']].sort_values(by='Sales', ascending=False)"
   ]
  },
  {
   "cell_type": "code",
   "execution_count": 12,
   "id": "b6648209-51da-4d12-86e9-7a3df8ea8a62",
   "metadata": {},
   "outputs": [
    {
     "data": {
      "text/plain": [
       "<seaborn.axisgrid.FacetGrid at 0x272d0285010>"
      ]
     },
     "execution_count": 12,
     "metadata": {},
     "output_type": "execute_result"
    },
    {
     "data": {
      "image/png": "[encoded data removed]",
      "text/plain": [
       "<Figure size 500x500 with 1 Axes>"
      ]
     },
     "metadata": {},
     "output_type": "display_data"
    }
   ],
   "source": [
    "# Focus on correlation between TV (ads) and Sales\n",
    "sns.relplot(data=advertising_data, x='TV', y='Sales')"
   ]
  },
  {
   "cell_type": "code",
   "execution_count": 15,
   "id": "ef3a546d-c01c-42b4-bf5c-9962fb15e0c9",
   "metadata": {},
   "outputs": [
    {
     "data": {
      "image/png": "[encoded data removed]",
      "text/plain": [
       "<Figure size 640x480 with 2 Axes>"
      ]
     },
     "metadata": {},
     "output_type": "display_data"
    }
   ],
   "source": [
    "# visually display correlations using seaborn's heatmap() func\n",
    "sns.heatmap(advertising_data.corr(), cmap='YlGnBu', annot = True)\n",
    "plt.show()"
   ]
  },
  {
   "cell_type": "code",
   "execution_count": 17,
   "id": "92400bb9-0c3c-40bb-9c3a-1ea18062c43b",
   "metadata": {},
   "outputs": [
    {
     "data": {
      "text/plain": [
       "<Axes: >"
      ]
     },
     "execution_count": 17,
     "metadata": {},
     "output_type": "execute_result"
    },
    {
     "data": {
      "image/png": "[encoded data removed]",
      "text/plain": [
       "<Figure size 640x480 with 1 Axes>"
      ]
     },
     "metadata": {},
     "output_type": "display_data"
    }
   ],
   "source": [
    "# visually condense correlations of one variable to other variables\n",
    "sns.heatmap(data=advertising_data.corr()[['Sales']].sort_values(by='Sales', ascending=False), annot=True, cmap='YlGnBu', cbar=False, fmt=f'.2f')"
   ]
  },
  {
   "cell_type": "markdown",
   "id": "f2121f9c-86a9-40b2-9f71-8ab6c32328a1",
   "metadata": {},
   "source": [
    "### Simple Linear Regression Steps\n",
    "\n",
    "  1. Indentify x (IV) and y (DV): x=TV, y=Sales\n",
    "  2. Create Train and Test datasets\n",
    "  3. Train model\n",
    "  4. Evaluate model"
   ]
  },
  {
   "cell_type": "code",
   "execution_count": 18,
   "id": "f33f4f96-c1d2-4c4e-9d2c-f14da789e02f",
   "metadata": {},
   "outputs": [],
   "source": [
    "# indentify x and y\n",
    "x = advertising_data['TV']\n",
    "y = advertising_data['Sales']"
   ]
  },
  {
   "cell_type": "code",
   "execution_count": 19,
   "id": "8670e86a-7bdc-41ae-b00b-3147bbfb9f4b",
   "metadata": {},
   "outputs": [],
   "source": [
    "# create train and test datasets\n",
    "# a. split variables into training and testing sets\n",
    "# b. build model using training set, then run model on testing set\n",
    "\n",
    "# Note: Training dataset used to fit the model, and test dataset used to evaluate the model\n",
    "# training data is the biggest subset of og dataset, used to train or fit the model\n",
    "# test dataset is another subset of og data, indepdent of training dataset\n",
    "\n",
    "# split variables into train and test datasets into 7:3 ratio, respectively, by importing train_test_split\n",
    "# random_state: controls randomization during splitting\n",
    "# random_state value not important\n",
    "from sklearn.model_selection import train_test_split\n",
    "x_train, x_test, y_train, y_test = train_test_split(x, y, train_size = 0.7, test_size = 0.3, random_state = 100)"
   ]
  },
  {
   "cell_type": "markdown",
   "id": "4b1c01b5-698d-4cfd-b06c-5dd6237b2694",
   "metadata": {},
   "source": [
    "### Review train datasets after splitting"
   ]
  },
  {
   "cell_type": "code",
   "execution_count": 20,
   "id": "f47af9ee-8234-45ef-a8e3-bdae0db4bcf3",
   "metadata": {},
   "outputs": [
    {
     "data": {
      "text/plain": [
       "74    213.40\n",
       "3     151.50\n",
       "185   205.00\n",
       "26    142.90\n",
       "90    134.30\n",
       "       ...  \n",
       "87    110.70\n",
       "103   187.90\n",
       "67    139.30\n",
       "24     62.30\n",
       "8       8.60\n",
       "Name: TV, Length: 140, dtype: float64"
      ]
     },
     "execution_count": 20,
     "metadata": {},
     "output_type": "execute_result"
    }
   ],
   "source": [
    "# display x training dataset (IVS)\n",
    "x_train"
   ]
  },
  {
   "cell_type": "code",
   "execution_count": 21,
   "id": "5fb832a5-486b-4136-b29d-7b3c3c046a94",
   "metadata": {},
   "outputs": [
    {
     "data": {
      "text/plain": [
       "74    17.00\n",
       "3     16.50\n",
       "185   22.60\n",
       "26    15.00\n",
       "90    14.00\n",
       "       ... \n",
       "87    16.00\n",
       "103   19.70\n",
       "67    13.40\n",
       "24     9.70\n",
       "8      4.80\n",
       "Name: Sales, Length: 140, dtype: float64"
      ]
     },
     "execution_count": 21,
     "metadata": {},
     "output_type": "execute_result"
    }
   ],
   "source": [
    "# display y training set\n",
    "y_train"
   ]
  },
  {
   "cell_type": "markdown",
   "id": "6c73165b-6a24-4419-8a2e-f711f378f7df",
   "metadata": {},
   "source": [
    "**Add column to perform regression fit properly for simple linear regression:**"
   ]
  },
  {
   "cell_type": "code",
   "execution_count": 22,
   "id": "410ec041-25b6-4d44-b808-ec2d42a69fab",
   "metadata": {},
   "outputs": [
    {
     "name": "stdout",
     "output_type": "stream",
     "text": [
      "(140,)\n",
      "(60,)\n"
     ]
    }
   ],
   "source": [
    "# display shape for x train and test datasets, b4 adding col\n",
    "print(x_train.shape)\n",
    "print(x_test.shape)"
   ]
  },
  {
   "cell_type": "markdown",
   "id": "e49ec951-9b7b-44da-a5a0-e2d773138d19",
   "metadata": {},
   "source": [
    "## Prepare Model"
   ]
  },
  {
   "cell_type": "code",
   "execution_count": 23,
   "id": "1cb4cf72-fb0d-44f9-bf40-5eb92df53ca3",
   "metadata": {},
   "outputs": [
    {
     "name": "stdout",
     "output_type": "stream",
     "text": [
      "(140, 1)\n",
      "(60, 1)\n"
     ]
    }
   ],
   "source": [
    "# add additional col to train and test datasets\n",
    "# by \"reshaping\" we can add or remove dimensions\n",
    "\n",
    "# reshape: first, raveling array. \n",
    "# Then inserting/deleting elements from raveled array into new array\n",
    "x_train = x_train.values.reshape(-1,1)\n",
    "x_test = x_test.values.reshape(-1,1)\n",
    "\n",
    "# display shape for x train and test data after adding col\n",
    "print(x_train.shape)\n",
    "print(x_test.shape)\n"
   ]
  },
  {
   "cell_type": "markdown",
   "id": "0737ee2e-b800-45a7-8814-64e64a6dfaf5",
   "metadata": {},
   "source": [
    "## Fitting model: Find best fitting line -- to accurately predict output"
   ]
  },
  {
   "cell_type": "code",
   "execution_count": 24,
   "id": "07ebecd8-bfee-416d-aace-1a55bde6d756",
   "metadata": {},
   "outputs": [],
   "source": [
    "# fit regression line to plot\n",
    "from sklearn.linear_model import LinearRegression\n",
    "\n",
    "lm = LinearRegression().fit(x_train, y_train)"
   ]
  },
  {
   "cell_type": "markdown",
   "id": "2d4da89e-10a7-4d33-99d3-e666559f7d02",
   "metadata": {},
   "source": [
    "## Intercept and Slope - Why?"
   ]
  },
  {
   "cell_type": "code",
   "execution_count": 25,
   "id": "8202f1f8-bced-4058-af2c-8a4fb20ff06b",
   "metadata": {},
   "outputs": [
    {
     "name": "stdout",
     "output_type": "stream",
     "text": [
      "Intercept : 6.948683200001357\n",
      "Slope : [0.05454575]\n"
     ]
    }
   ],
   "source": [
    "# print model coefficients\n",
    "# print intercept value (constant)\n",
    "print(\"Intercept :\",lm.intercept_)\n",
    "\n",
    "# print slope value\n",
    "print('Slope :',lm.coef_)"
   ]
  },
  {
   "cell_type": "code",
   "execution_count": 26,
   "id": "8d81a8a1-9c44-4c01-94e3-0a4980330188",
   "metadata": {},
   "outputs": [],
   "source": [
    "# simple linear regression formula from above values\n",
    "# Y = mX + b\n",
    "# Y = DV, X = IV, m = est. slope, b = est. intercept\n",
    "# Sales = (.054 * TV) + 6.948"
   ]
  },
  {
   "cell_type": "markdown",
   "id": "f1a34c37-7132-4a31-ad21-f85aca80e639",
   "metadata": {},
   "source": [
    "### r2 values - how well regression line approximates actual data\n",
    "\n",
    "  - R2 also known as Coefficient of Determination.\n",
    "  - R2 determines how good a linear fit exists between predictors and target variable.\n",
    "  - Returns values between 0 and 1 (inclusive)--higher the value, better the model"
   ]
  },
  {
   "cell_type": "code",
   "execution_count": 27,
   "id": "2525aa6f-870b-41bb-9f3a-b4342c9028ec",
   "metadata": {},
   "outputs": [
    {
     "name": "stdout",
     "output_type": "stream",
     "text": [
      "0.8157933136480389\n",
      "0.7921031601245662\n"
     ]
    }
   ],
   "source": [
    "# predict y_value\n",
    "y_train_predict = lm.predict(x_train)\n",
    "y_test_predict = lm.predict(x_test)\n",
    "\n",
    "from sklearn.metrics import r2_score\n",
    "\n",
    "# print and compare r2 values of both train and test data\n",
    "print(r2_score(y_train,y_train_predict))\n",
    "print(r2_score(y_test,y_test_predict))\n",
    "\n",
    "# r2: statistical measure of how well regression line approximates actual data"
   ]
  },
  {
   "cell_type": "markdown",
   "id": "7bf7c4eb-abb4-431a-b621-4cb38111b171",
   "metadata": {},
   "source": [
    "## Plot linear regression (using simple estimation)"
   ]
  },
  {
   "cell_type": "code",
   "execution_count": 29,
   "id": "0df43f95-4c08-4b50-8cf8-2716ea2e1eeb",
   "metadata": {},
   "outputs": [
    {
     "data": {
      "text/plain": [
       "<Axes: xlabel='TV', ylabel='Sales'>"
      ]
     },
     "execution_count": 29,
     "metadata": {},
     "output_type": "execute_result"
    },
    {
     "data": {
      "image/png": "[encoded data removed]",
      "text/plain": [
       "<Figure size 640x480 with 1 Axes>"
      ]
     },
     "metadata": {},
     "output_type": "display_data"
    }
   ],
   "source": [
    "# plot data and linear regression fit\n",
    "# Note: goal of seaborn is to help find and emphasize patterns through quick and easy visualizations\n",
    "\n",
    "# Seaborn is not itself a package for statistical analysis--for that, use scikit learn\n",
    "sns.regplot(data=advertising_data, x='TV', y='Sales', ci=95, scatter_kws={'s':5}, line_kws={\"lw\":1, 'color':'orange'})\n",
    "\n",
    "# scatter_kws changes dot size\n",
    "# ci (confidence interval used to regression est) typically use 95%\n"
   ]
  },
  {
   "cell_type": "markdown",
   "id": "681ed3e4-d729-4585-aa53-bb9350c733fd",
   "metadata": {},
   "source": [
    "## Plot residuals using Seaborn"
   ]
  },
  {
   "cell_type": "code",
   "execution_count": 32,
   "id": "8ccd5abd-f0ae-476c-a910-806fefd07e4b",
   "metadata": {},
   "outputs": [
    {
     "data": {
      "text/plain": [
       "<Axes: xlabel='TV', ylabel='Sales'>"
      ]
     },
     "execution_count": 32,
     "metadata": {},
     "output_type": "execute_result"
    },
    {
     "data": {
      "image/png": "[encoded data removed]",
      "text/plain": [
       "<Figure size 640x480 with 1 Axes>"
      ]
     },
     "metadata": {},
     "output_type": "display_data"
    }
   ],
   "source": [
    "# residual plot: used to plot residual values after plotting linear regression model\n",
    "# horizontal line indicates where predicted and actual values are the same\n",
    "# lowess (aka 'loess') line stands for \"logically weighted scatterplot smoothing'\n",
    "# line_kws: color lowess line\n",
    "sns.residplot(data=advertising_data, x='TV', y='Sales', scatter_kws={'s':5}, lowess=True, line_kws={'color':'orange'})"
   ]
  },
  {
   "cell_type": "code",
   "execution_count": null,
   "id": "c2b185b6-6e3c-411e-b708-497547b39bb7",
   "metadata": {},
   "outputs": [],
   "source": []
  }
 ],
 "metadata": {
  "kernelspec": {
   "display_name": "Python 3 (ipykernel)",
   "language": "python",
   "name": "python3"
  },
  "language_info": {
   "codemirror_mode": {
    "name": "ipython",
    "version": 3
   },
   "file_extension": ".py",
   "mimetype": "text/x-python",
   "name": "python",
   "nbconvert_exporter": "python",
   "pygments_lexer": "ipython3",
   "version": "3.11.7"
  }
 },
 "nbformat": 4,
 "nbformat_minor": 5
}
