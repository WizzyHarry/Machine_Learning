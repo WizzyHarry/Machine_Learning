{
 "cells": [
  {
   "cell_type": "markdown",
   "id": "6e4d9788-d3e0-4e02-bafc-86cb394075f3",
   "metadata": {},
   "source": [
    "## Python Image Processing\n",
    "\n",
    "**Developer:** Keith Faunce\n",
    "\n",
    "**Course:** Artifical Intelligence Applications\n",
    "\n",
    "**Semester:** Summer 2024\n",
    "\n",
    "**Program Requirements:**\n",
    "  1. Get data\n",
    "  2. Prepare data\n",
    "  3. Display data\n"
   ]
  },
  {
   "cell_type": "code",
   "execution_count": null,
   "id": "fbcf9d90-7978-4579-b57e-ef145702d1ea",
   "metadata": {},
   "outputs": [],
   "source": []
  }
 ],
 "metadata": {
  "kernelspec": {
   "display_name": "Python 3 (ipykernel)",
   "language": "python",
   "name": "python3"
  },
  "language_info": {
   "codemirror_mode": {
    "name": "ipython",
    "version": 3
   },
   "file_extension": ".py",
   "mimetype": "text/x-python",
   "name": "python",
   "nbconvert_exporter": "python",
   "pygments_lexer": "ipython3",
   "version": "3.12.4"
  }
 },
 "nbformat": 4,
 "nbformat_minor": 5
}
