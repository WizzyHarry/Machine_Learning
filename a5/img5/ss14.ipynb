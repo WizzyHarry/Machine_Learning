{
 "cells": [
  {
   "cell_type": "markdown",
   "id": "6e4d9788-d3e0-4e02-bafc-86cb394075f3",
   "metadata": {},
   "source": [
    "## Python Image Processing\n",
    "\n",
    "**Developer:** Keith Faunce\n",
    "\n",
    "**Course:** Artifical Intelligence Applications\n",
    "\n",
    "**Semester:** Summer 2024\n",
    "\n",
    "**Program Requirements:**\n",
    "  1. Get data\n",
    "  2. Prepare data\n",
    "  3. Display data\n"
   ]
  },
  {
   "cell_type": "code",
   "execution_count": 1,
   "id": "fbcf9d90-7978-4579-b57e-ef145702d1ea",
   "metadata": {},
   "outputs": [
    {
     "ename": "ImportError",
     "evalue": "DLL load failed while importing _imaging: The specified module could not be found.",
     "output_type": "error",
     "traceback": [
      "\u001b[1;31m---------------------------------------------------------------------------\u001b[0m",
      "\u001b[1;31mImportError\u001b[0m                               Traceback (most recent call last)",
      "Cell \u001b[1;32mIn[1], line 3\u001b[0m\n\u001b[0;32m      1\u001b[0m \u001b[38;5;28;01mimport\u001b[39;00m \u001b[38;5;21;01mcv2\u001b[39;00m \u001b[38;5;66;03m# image and vid processing library\u001b[39;00m\n\u001b[0;32m      2\u001b[0m \u001b[38;5;28;01mimport\u001b[39;00m \u001b[38;5;21;01mnumpy\u001b[39;00m \u001b[38;5;28;01mas\u001b[39;00m \u001b[38;5;21;01mnp\u001b[39;00m \u001b[38;5;66;03m# all things numbers and python\u001b[39;00m\n\u001b[1;32m----> 3\u001b[0m \u001b[38;5;28;01mimport\u001b[39;00m \u001b[38;5;21;01mmatplotlib\u001b[39;00m\u001b[38;5;21;01m.\u001b[39;00m\u001b[38;5;21;01mpyplot\u001b[39;00m \u001b[38;5;28;01mas\u001b[39;00m \u001b[38;5;21;01mplt\u001b[39;00m \u001b[38;5;66;03m# display plots\u001b[39;00m\n",
      "File \u001b[1;32m~\\anaconda3\\envs\\lis4930\\lib\\site-packages\\matplotlib\\__init__.py:159\u001b[0m\n\u001b[0;32m    155\u001b[0m \u001b[38;5;28;01mfrom\u001b[39;00m \u001b[38;5;21;01mpackaging\u001b[39;00m\u001b[38;5;21;01m.\u001b[39;00m\u001b[38;5;21;01mversion\u001b[39;00m \u001b[38;5;28;01mimport\u001b[39;00m parse \u001b[38;5;28;01mas\u001b[39;00m parse_version\n\u001b[0;32m    157\u001b[0m \u001b[38;5;66;03m# cbook must import matplotlib only within function\u001b[39;00m\n\u001b[0;32m    158\u001b[0m \u001b[38;5;66;03m# definitions, so it is safe to import from it here.\u001b[39;00m\n\u001b[1;32m--> 159\u001b[0m \u001b[38;5;28;01mfrom\u001b[39;00m \u001b[38;5;21;01m.\u001b[39;00m \u001b[38;5;28;01mimport\u001b[39;00m _api, _version, cbook, _docstring, rcsetup\n\u001b[0;32m    160\u001b[0m \u001b[38;5;28;01mfrom\u001b[39;00m \u001b[38;5;21;01mmatplotlib\u001b[39;00m\u001b[38;5;21;01m.\u001b[39;00m\u001b[38;5;21;01mcbook\u001b[39;00m \u001b[38;5;28;01mimport\u001b[39;00m sanitize_sequence\n\u001b[0;32m    161\u001b[0m \u001b[38;5;28;01mfrom\u001b[39;00m \u001b[38;5;21;01mmatplotlib\u001b[39;00m\u001b[38;5;21;01m.\u001b[39;00m\u001b[38;5;21;01m_api\u001b[39;00m \u001b[38;5;28;01mimport\u001b[39;00m MatplotlibDeprecationWarning\n",
      "File \u001b[1;32m~\\anaconda3\\envs\\lis4930\\lib\\site-packages\\matplotlib\\rcsetup.py:28\u001b[0m\n\u001b[0;32m     26\u001b[0m \u001b[38;5;28;01mfrom\u001b[39;00m \u001b[38;5;21;01mmatplotlib\u001b[39;00m\u001b[38;5;21;01m.\u001b[39;00m\u001b[38;5;21;01mbackends\u001b[39;00m \u001b[38;5;28;01mimport\u001b[39;00m BackendFilter, backend_registry\n\u001b[0;32m     27\u001b[0m \u001b[38;5;28;01mfrom\u001b[39;00m \u001b[38;5;21;01mmatplotlib\u001b[39;00m\u001b[38;5;21;01m.\u001b[39;00m\u001b[38;5;21;01mcbook\u001b[39;00m \u001b[38;5;28;01mimport\u001b[39;00m ls_mapper\n\u001b[1;32m---> 28\u001b[0m \u001b[38;5;28;01mfrom\u001b[39;00m \u001b[38;5;21;01mmatplotlib\u001b[39;00m\u001b[38;5;21;01m.\u001b[39;00m\u001b[38;5;21;01mcolors\u001b[39;00m \u001b[38;5;28;01mimport\u001b[39;00m Colormap, is_color_like\n\u001b[0;32m     29\u001b[0m \u001b[38;5;28;01mfrom\u001b[39;00m \u001b[38;5;21;01mmatplotlib\u001b[39;00m\u001b[38;5;21;01m.\u001b[39;00m\u001b[38;5;21;01m_fontconfig_pattern\u001b[39;00m \u001b[38;5;28;01mimport\u001b[39;00m parse_fontconfig_pattern\n\u001b[0;32m     30\u001b[0m \u001b[38;5;28;01mfrom\u001b[39;00m \u001b[38;5;21;01mmatplotlib\u001b[39;00m\u001b[38;5;21;01m.\u001b[39;00m\u001b[38;5;21;01m_enums\u001b[39;00m \u001b[38;5;28;01mimport\u001b[39;00m JoinStyle, CapStyle\n",
      "File \u001b[1;32m~\\anaconda3\\envs\\lis4930\\lib\\site-packages\\matplotlib\\colors.py:52\u001b[0m\n\u001b[0;32m     49\u001b[0m \u001b[38;5;28;01mfrom\u001b[39;00m \u001b[38;5;21;01mnumbers\u001b[39;00m \u001b[38;5;28;01mimport\u001b[39;00m Real\n\u001b[0;32m     50\u001b[0m \u001b[38;5;28;01mimport\u001b[39;00m \u001b[38;5;21;01mre\u001b[39;00m\n\u001b[1;32m---> 52\u001b[0m \u001b[38;5;28;01mfrom\u001b[39;00m \u001b[38;5;21;01mPIL\u001b[39;00m \u001b[38;5;28;01mimport\u001b[39;00m Image\n\u001b[0;32m     53\u001b[0m \u001b[38;5;28;01mfrom\u001b[39;00m \u001b[38;5;21;01mPIL\u001b[39;00m\u001b[38;5;21;01m.\u001b[39;00m\u001b[38;5;21;01mPngImagePlugin\u001b[39;00m \u001b[38;5;28;01mimport\u001b[39;00m PngInfo\n\u001b[0;32m     55\u001b[0m \u001b[38;5;28;01mimport\u001b[39;00m \u001b[38;5;21;01mmatplotlib\u001b[39;00m \u001b[38;5;28;01mas\u001b[39;00m \u001b[38;5;21;01mmpl\u001b[39;00m\n",
      "File \u001b[1;32m~\\anaconda3\\envs\\lis4930\\lib\\site-packages\\PIL\\Image.py:100\u001b[0m\n\u001b[0;32m     91\u001b[0m MAX_IMAGE_PIXELS: \u001b[38;5;28mint\u001b[39m \u001b[38;5;241m|\u001b[39m \u001b[38;5;28;01mNone\u001b[39;00m \u001b[38;5;241m=\u001b[39m \u001b[38;5;28mint\u001b[39m(\u001b[38;5;241m1024\u001b[39m \u001b[38;5;241m*\u001b[39m \u001b[38;5;241m1024\u001b[39m \u001b[38;5;241m*\u001b[39m \u001b[38;5;241m1024\u001b[39m \u001b[38;5;241m/\u001b[39m\u001b[38;5;241m/\u001b[39m \u001b[38;5;241m4\u001b[39m \u001b[38;5;241m/\u001b[39m\u001b[38;5;241m/\u001b[39m \u001b[38;5;241m3\u001b[39m)\n\u001b[0;32m     94\u001b[0m \u001b[38;5;28;01mtry\u001b[39;00m:\n\u001b[0;32m     95\u001b[0m     \u001b[38;5;66;03m# If the _imaging C module is not present, Pillow will not load.\u001b[39;00m\n\u001b[0;32m     96\u001b[0m     \u001b[38;5;66;03m# Note that other modules should not refer to _imaging directly;\u001b[39;00m\n\u001b[0;32m     97\u001b[0m     \u001b[38;5;66;03m# import Image and use the Image.core variable instead.\u001b[39;00m\n\u001b[0;32m     98\u001b[0m     \u001b[38;5;66;03m# Also note that Image.core is not a publicly documented interface,\u001b[39;00m\n\u001b[0;32m     99\u001b[0m     \u001b[38;5;66;03m# and should be considered private and subject to change.\u001b[39;00m\n\u001b[1;32m--> 100\u001b[0m     \u001b[38;5;28;01mfrom\u001b[39;00m \u001b[38;5;21;01m.\u001b[39;00m \u001b[38;5;28;01mimport\u001b[39;00m _imaging \u001b[38;5;28;01mas\u001b[39;00m core\n\u001b[0;32m    102\u001b[0m     \u001b[38;5;28;01mif\u001b[39;00m __version__ \u001b[38;5;241m!=\u001b[39m \u001b[38;5;28mgetattr\u001b[39m(core, \u001b[38;5;124m\"\u001b[39m\u001b[38;5;124mPILLOW_VERSION\u001b[39m\u001b[38;5;124m\"\u001b[39m, \u001b[38;5;28;01mNone\u001b[39;00m):\n\u001b[0;32m    103\u001b[0m         msg \u001b[38;5;241m=\u001b[39m (\n\u001b[0;32m    104\u001b[0m             \u001b[38;5;124m\"\u001b[39m\u001b[38;5;124mThe _imaging extension was built for another version of Pillow or PIL:\u001b[39m\u001b[38;5;130;01m\\n\u001b[39;00m\u001b[38;5;124m\"\u001b[39m\n\u001b[0;32m    105\u001b[0m             \u001b[38;5;124mf\u001b[39m\u001b[38;5;124m\"\u001b[39m\u001b[38;5;124mCore version: \u001b[39m\u001b[38;5;132;01m{\u001b[39;00m\u001b[38;5;28mgetattr\u001b[39m(core,\u001b[38;5;250m \u001b[39m\u001b[38;5;124m'\u001b[39m\u001b[38;5;124mPILLOW_VERSION\u001b[39m\u001b[38;5;124m'\u001b[39m,\u001b[38;5;250m \u001b[39m\u001b[38;5;28;01mNone\u001b[39;00m)\u001b[38;5;132;01m}\u001b[39;00m\u001b[38;5;130;01m\\n\u001b[39;00m\u001b[38;5;124m\"\u001b[39m\n\u001b[0;32m    106\u001b[0m             \u001b[38;5;124mf\u001b[39m\u001b[38;5;124m\"\u001b[39m\u001b[38;5;124mPillow version: \u001b[39m\u001b[38;5;132;01m{\u001b[39;00m__version__\u001b[38;5;132;01m}\u001b[39;00m\u001b[38;5;124m\"\u001b[39m\n\u001b[0;32m    107\u001b[0m         )\n",
      "\u001b[1;31mImportError\u001b[0m: DLL load failed while importing _imaging: The specified module could not be found."
     ]
    }
   ],
   "source": [
    "import cv2 # image and vid processing library\n",
    "import numpy as np # all things numbers and python\n",
    "import matplotlib.pyplot as plt # display plots"
   ]
  },
  {
   "cell_type": "markdown",
   "id": "8968c1f5-1bf4-4bbd-be03-8679f6baff99",
   "metadata": {},
   "source": [
    "**Note: ALL** work **MUST** be done within a Python **environment.**\n",
    "\n",
    "**IF** incurring **ANY** errors--RESEARCH YOUR OWN SOLUTIONS BEFORE SEEKING ASSISTANCE!\n",
    "\n",
    "**UNLESS** I indicate otherwise, do NOT use the pip package manager for ANY installations!\n",
    "**NOTE:** I used pip........ going to see how it works\n",
    "\n",
    "### Basic OpenCV Commands:\n",
    "\n",
    "  1. Read image from file (imread)\n",
    "  2. Display image in OpenCV window (imshow)\n",
    "  3. Write image to file (imwrite)\n",
    "\n",
    "### Get image - imread()"
   ]
  },
  {
   "cell_type": "code",
   "execution_count": null,
   "id": "3c191826-cea6-4dd4-b9d0-9cc025da89db",
   "metadata": {},
   "outputs": [],
   "source": [
    "# place file in same directory as .ipynb file\n",
    "img = cv2.imread('watch.jpg')\n",
    "\n",
    "# check if image is found\n",
    "if img is None:\n",
    "    print(\"Check file path!\")"
   ]
  },
  {
   "cell_type": "markdown",
   "id": "cb4c7ea7-d2d2-4751-8622-9f4a78187fdf",
   "metadata": {},
   "source": [
    "### Get image info"
   ]
  },
  {
   "cell_type": "code",
   "execution_count": null,
   "id": "feaad2f2-4c33-494a-93d6-691284c04261",
   "metadata": {},
   "outputs": [],
   "source": [
    "print(type(img))\n",
    "\n",
    "print(img.shape)\n",
    "# (168, 300, 3)\n",
    "\n",
    "print(img.dtype)"
   ]
  },
  {
   "cell_type": "code",
   "execution_count": null,
   "id": "552c8198-e3fa-44b7-8934-84ea02df630d",
   "metadata": {},
   "outputs": [],
   "source": [
    "# image dimensions\n",
    "dimensions = img.shape\n",
    "\n",
    "# get image height, width, num of channels\n",
    "height = img.shape[0]\n",
    "width = img.shape[1]\n",
    "channels = img.shape[2]\n",
    "\n",
    "print('Image Dimension    : ',dimensions)\n",
    "print('Image Height       : ',height)\n",
    "print('Image Width        : ',width)\n",
    "print('Number of Channels : ',channels)"
   ]
  },
  {
   "cell_type": "markdown",
   "id": "f4f031c5-85eb-4abf-a09d-5a101e7eb260",
   "metadata": {},
   "source": [
    "### Show image - imshow()"
   ]
  },
  {
   "cell_type": "code",
   "execution_count": null,
   "id": "7cc75fe1-2786-466f-8ae4-426f66346166",
   "metadata": {},
   "outputs": [],
   "source": [
    "# display inside of Jupyter Notebook cell\n",
    "plt.imshow(img)\n",
    "plt.title('my BGR pic')\n",
    "plt.show()"
   ]
  },
  {
   "cell_type": "markdown",
   "id": "05e986f9-45f4-489b-8727-2ad3bc1690e9",
   "metadata": {},
   "source": [
    "### Image Conversions"
   ]
  },
  {
   "cell_type": "code",
   "execution_count": null,
   "id": "4d2421e4-047d-4e76-a6f8-6a5c4c228e33",
   "metadata": {},
   "outputs": [],
   "source": [
    "# OpenCV contains more than 150 color-space conversion funcs\n",
    "\n",
    "# flags = [i for i in dir(cv2) if i.startswith('COLOR_')]\n",
    "# print(flags)\n",
    "\n",
    "# thats a lot of colors\n",
    "# recommenting"
   ]
  },
  {
   "cell_type": "code",
   "execution_count": null,
   "id": "b9da54fc-7ca8-405c-b6a5-7032a8cdf837",
   "metadata": {},
   "outputs": [],
   "source": [
    "# convert to RGB\n",
    "img_rgb = cv2.cvtColor(img, cv2.COLOR_BGR2RGB)\n",
    "\n",
    "plt.imshow(img_rgb)\n",
    "plt.title('my RGB pic')\n",
    "plt.show()"
   ]
  },
  {
   "cell_type": "markdown",
   "id": "e3532451-878d-43b3-a6c5-9b6c1519a18d",
   "metadata": {},
   "source": [
    "### Save image - imwrite()"
   ]
  },
  {
   "cell_type": "code",
   "execution_count": null,
   "id": "c0c40bba-2a0d-41e9-9a5e-937cb164587a",
   "metadata": {},
   "outputs": [],
   "source": [
    "cv2.imwrite('watch_new.png', img)"
   ]
  },
  {
   "cell_type": "markdown",
   "id": "8e86f41c-3a8d-4261-9eaf-c18bb95fe59d",
   "metadata": {},
   "source": [
    "### More Image Processing!"
   ]
  },
  {
   "cell_type": "code",
   "execution_count": null,
   "id": "4c243937-c521-4135-87a8-bbea4a41c6fd",
   "metadata": {},
   "outputs": [],
   "source": [
    "myimg = cv2.imread('cat-grayscale.jpg')\n",
    "\n",
    "# Enlarging image: Use INTER_LINEAR or INTER_CUBIC interpolation\n",
    "# Shrinking image: Use INTER_AREA interplotation\n",
    "# Cubic interpolation: More complex, slower, higher quality\n",
    "\n",
    "resized = cv2.resize(myimg, (128, 128), interpolation = cv2.INTER_AREA)\n",
    "mynewimg = cv2.cvtColor(resized, cv2.COLOR_BGR2GRAY)"
   ]
  },
  {
   "cell_type": "markdown",
   "id": "3dc5e0a2-cad6-4f8e-aa56-f9298ba53ae6",
   "metadata": {},
   "source": [
    "### Get image info"
   ]
  },
  {
   "cell_type": "code",
   "execution_count": null,
   "id": "38a2b567-a4aa-4d05-aa45-ec42139cf9e2",
   "metadata": {},
   "outputs": [],
   "source": [
    "# Note: Binary images and grayscale images are 2-dimensional arrays!\n",
    "\n",
    "print(mynewimg.shape) \n",
    "\n",
    "print(type(mynewimg))\n",
    "\n",
    "print(type(mynewimg.shape))"
   ]
  },
  {
   "cell_type": "code",
   "execution_count": null,
   "id": "21b64e2d-911e-4489-b7e8-9ee61306241c",
   "metadata": {},
   "outputs": [],
   "source": [
    "# display numpy array's contents\n",
    "print(mynewimg[:15, :15]) # return 1st 15 rows and cols"
   ]
  },
  {
   "cell_type": "markdown",
   "id": "a9dfed1c-f254-4892-9b60-7f9b106a8c2e",
   "metadata": {},
   "source": [
    "### Display image - imshow()"
   ]
  },
  {
   "cell_type": "code",
   "execution_count": null,
   "id": "539a4644-2cc6-4240-96e1-3ecc3d7fc466",
   "metadata": {},
   "outputs": [],
   "source": [
    "# Display numpy array as grayscale image\n",
    "print(mynewimg.shape)\n",
    "plt.imshow(mynewimg, cmap='gray')\n",
    "plt.colorbar()\n",
    "plt.show()"
   ]
  },
  {
   "cell_type": "markdown",
   "id": "1c873187-53ef-4d9a-a0fb-48283b3bcf7e",
   "metadata": {},
   "source": [
    "### Save Image Data - as text file"
   ]
  },
  {
   "cell_type": "code",
   "execution_count": null,
   "id": "43c45f32-ae73-4255-8a18-fd2408b18b15",
   "metadata": {},
   "outputs": [],
   "source": [
    "# numpy savetext() func\n",
    "np.savetxt('mycat.csv', mynewimg, fmt='%.1f', delimiter = ',')"
   ]
  },
  {
   "cell_type": "code",
   "execution_count": null,
   "id": "b321a036-3e24-4d92-97d2-79df36089d5c",
   "metadata": {},
   "outputs": [],
   "source": []
  }
 ],
 "metadata": {
  "kernelspec": {
   "display_name": "Python 3 (ipykernel)",
   "language": "python",
   "name": "python3"
  },
  "language_info": {
   "codemirror_mode": {
    "name": "ipython",
    "version": 3
   },
   "file_extension": ".py",
   "mimetype": "text/x-python",
   "name": "python",
   "nbconvert_exporter": "python",
   "pygments_lexer": "ipython3",
   "version": "3.9.15"
  }
 },
 "nbformat": 4,
 "nbformat_minor": 5
}
