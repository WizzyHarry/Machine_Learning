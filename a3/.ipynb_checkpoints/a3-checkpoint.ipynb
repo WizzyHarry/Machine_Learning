{
 "cells": [
  {
   "cell_type": "markdown",
   "id": "9a125813-749d-4bbd-97c6-4de83eea96bd",
   "metadata": {},
   "source": [
    "## Assignment 3\n",
    "\n",
    "**Developer:** Keith Faunce\n",
    "\n",
    "**Course:** LIS4930\n",
    "\n",
    "**Semester:** Summer 2024\n",
    "\n",
    "**Program Requirements (data analysis and visualization steps):** \n",
    "1. Get\n",
    "2. Clean\n",
    "3. Prepare\n",
    "4. Analyze\n",
    "5. Display/Visualize "
   ]
  },
  {
   "cell_type": "code",
   "execution_count": 1,
   "id": "f6dcf83a-9ebe-495a-88f2-aaddfcaa7c1e",
   "metadata": {},
   "outputs": [],
   "source": [
    "# import pandas\n",
    "import pandas as pd"
   ]
  },
  {
   "cell_type": "markdown",
   "id": "70536aa1-3830-4f0d-98ad-0f73cb99f2ed",
   "metadata": {},
   "source": [
    "## Get data - read cleaned pickle file"
   ]
  },
  {
   "cell_type": "code",
   "execution_count": 6,
   "id": "e136cab8-2081-4c12-bb93-21b7f8b4516f",
   "metadata": {},
   "outputs": [],
   "source": [
    "# read cleaned pickle file from A2 into \"mortality_data\" variable\n",
    "mortality_data = pd.read_pickle('mortality_cleaned.pkl')"
   ]
  },
  {
   "cell_type": "code",
   "execution_count": 7,
   "id": "26063527-ccf5-4e80-a039-3471b9fab69d",
   "metadata": {},
   "outputs": [
    {
     "name": "stdout",
     "output_type": "stream",
     "text": [
      "     Year     AgeGroup  DeathRate\n",
      "0    1900    1-4 Years     1983.8\n",
      "1    1901    1-4 Years     1695.0\n",
      "2    1902    1-4 Years     1655.7\n",
      "3    1903    1-4 Years     1542.1\n",
      "4    1904    1-4 Years     1591.5\n",
      "..    ...          ...        ...\n",
      "471  2014  15-19 Years       45.5\n",
      "472  2015  15-19 Years       48.3\n",
      "473  2016  15-19 Years       51.2\n",
      "474  2017  15-19 Years       51.5\n",
      "475  2018  15-19 Years       49.2\n",
      "\n",
      "[476 rows x 3 columns]\n"
     ]
    }
   ],
   "source": [
    "# display first and last 5 rows with one command\n",
    "print(mortality_data)"
   ]
  },
  {
   "cell_type": "code",
   "execution_count": 8,
   "id": "743ddd77-78c1-4d1b-8d0e-2dfc02325721",
   "metadata": {},
   "outputs": [
    {
     "name": "stdout",
     "output_type": "stream",
     "text": [
      "<class 'pandas.core.frame.DataFrame'>\n",
      "RangeIndex: 476 entries, 0 to 475\n",
      "Data columns (total 3 columns):\n",
      " #   Column     Non-Null Count  Dtype  \n",
      "---  ------     --------------  -----  \n",
      " 0   Year       476 non-null    int64  \n",
      " 1   AgeGroup   476 non-null    object \n",
      " 2   DeathRate  476 non-null    float64\n",
      "dtypes: float64(1), int64(1), object(1)\n",
      "memory usage: 11.3+ KB\n"
     ]
    }
   ],
   "source": [
    "# use pandas dataframe info() method which prints:\n",
    "# 1. num of cols\n",
    "# 2. col labels\n",
    "# 3. col data types\n",
    "# 4. memory usage\n",
    "# 5. range index\n",
    "# 6. number of cells in each col\n",
    "mortality_data.info()"
   ]
  },
  {
   "cell_type": "code",
   "execution_count": 9,
   "id": "e6e055c4-a308-40ec-a1c9-c878385f1d82",
   "metadata": {},
   "outputs": [
    {
     "name": "stdout",
     "output_type": "stream",
     "text": [
      "Index:   RangeIndex(start=0, stop=476, step=1)\n",
      "Columns: Index(['Year', 'AgeGroup', 'DeathRate'], dtype='object')\n",
      "Size:    1428\n",
      "Shape:   (476, 3)\n"
     ]
    }
   ],
   "source": [
    "# print the following dataframe attributes: index, cols, size & shape\n",
    "print(\"Index:  \", mortality_data.index)\n",
    "print(\"Columns:\", mortality_data.columns)\n",
    "print(\"Size:   \", mortality_data.size)\n",
    "print(\"Shape:  \", mortality_data.shape)"
   ]
  },
  {
   "cell_type": "markdown",
   "id": "5b343121-3c07-4af6-a248-bcb977ec1f07",
   "metadata": {},
   "source": [
    "## Prepare Data\n",
    "\n",
    "### Sort Data"
   ]
  },
  {
   "cell_type": "code",
   "execution_count": 10,
   "id": "d8a91526-1aaf-44eb-8ef4-44a101e722b2",
   "metadata": {},
   "outputs": [
    {
     "name": "stdout",
     "output_type": "stream",
     "text": [
      "     Year   AgeGroup  DeathRate\n",
      "231  2012  5-9 Years       11.4\n",
      "237  2018  5-9 Years       11.5\n",
      "229  2010  5-9 Years       11.5\n"
     ]
    }
   ],
   "source": [
    "# display first 3 records sorted by Deathrate in asc \n",
    "print(mortality_data.sort_values('DeathRate').head(3))"
   ]
  },
  {
   "cell_type": "code",
   "execution_count": 12,
   "id": "65bcad9d-c28d-4f88-83bb-c09aa25babf0",
   "metadata": {},
   "outputs": [
    {
     "name": "stdout",
     "output_type": "stream",
     "text": [
      "   Year   AgeGroup  DeathRate\n",
      "0  1900  1-4 Years     1983.8\n",
      "1  1901  1-4 Years     1695.0\n",
      "2  1902  1-4 Years     1655.7\n"
     ]
    }
   ],
   "source": [
    "# display first 3 records sorted by deathrate desc\n",
    "print(mortality_data.sort_values('DeathRate', ascending=False).head(3))"
   ]
  },
  {
   "cell_type": "code",
   "execution_count": 13,
   "id": "41763871-71dd-4518-bc93-2246c808db81",
   "metadata": {},
   "outputs": [
    {
     "name": "stdout",
     "output_type": "stream",
     "text": [
      "     Year     AgeGroup  DeathRate\n",
      "238  1900  10-14 Years      298.3\n",
      "119  1900    5-9 Years      466.1\n",
      "357  1900  15-19 Years      484.8\n"
     ]
    }
   ],
   "source": [
    "# display first 3 records sorted by Year and Deathrate, both asc\n",
    "print(mortality_data.sort_values(['Year', 'DeathRate']).head(3))"
   ]
  },
  {
   "cell_type": "code",
   "execution_count": 14,
   "id": "8e72602a-c4ca-4a8f-970b-06ff44398608",
   "metadata": {},
   "outputs": [
    {
     "name": "stdout",
     "output_type": "stream",
     "text": [
      "     Year   AgeGroup  DeathRate\n",
      "231  2012  5-9 Years       11.4\n",
      "229  2010  5-9 Years       11.5\n",
      "233  2014  5-9 Years       11.5\n"
     ]
    }
   ],
   "source": [
    "# display first 3 records sorted by deathrate and year, both asc\n",
    "print(mortality_data.sort_values(['DeathRate', 'Year']).head(3))"
   ]
  },
  {
   "cell_type": "code",
   "execution_count": 15,
   "id": "5134f11c-0c07-41f6-a118-f1365c6af720",
   "metadata": {},
   "outputs": [
    {
     "name": "stdout",
     "output_type": "stream",
     "text": [
      "     Year     AgeGroup  DeathRate\n",
      "0    1900    1-4 Years     1983.8\n",
      "357  1900  15-19 Years      484.8\n",
      "119  1900    5-9 Years      466.1\n",
      "238  1900  10-14 Years      298.3\n",
      "1    1901    1-4 Years     1695.0\n"
     ]
    }
   ],
   "source": [
    "# display first 5 records sorted by year asc, then deathrate desc\n",
    "print(mortality_data.sort_values(['Year', 'DeathRate'],\n",
    "                                 ascending=[True,False]).head())"
   ]
  },
  {
   "cell_type": "code",
   "execution_count": 16,
   "id": "9067c893-46f8-45b6-823d-456837d91ced",
   "metadata": {},
   "outputs": [
    {
     "name": "stdout",
     "output_type": "stream",
     "text": [
      "   Year   AgeGroup  DeathRate\n",
      "0  1900  1-4 Years     1983.8\n",
      "1  1901  1-4 Years     1695.0\n",
      "2  1902  1-4 Years     1655.7\n",
      "4  1904  1-4 Years     1591.5\n",
      "6  1906  1-4 Years     1580.0\n"
     ]
    }
   ],
   "source": [
    "# display first 5 records sorted first by deathrate desc, then year asc\n",
    "print(mortality_data.sort_values(['DeathRate', 'Year'],\n",
    "                                 ascending=[False,True]).head())"
   ]
  },
  {
   "cell_type": "markdown",
   "id": "072eefbd-7ee2-4c63-9201-552f8ba842da",
   "metadata": {},
   "source": [
    "### Preparing data - apply statistical functions"
   ]
  },
  {
   "cell_type": "code",
   "execution_count": 17,
   "id": "2df6d2b3-9ec0-4bcd-b67b-446c73ea40c7",
   "metadata": {},
   "outputs": [
    {
     "name": "stdout",
     "output_type": "stream",
     "text": [
      "192.92415966386554\n"
     ]
    }
   ],
   "source": [
    "# deathrate mean\n",
    "print(mortality_data.DeathRate.mean())"
   ]
  },
  {
   "cell_type": "code",
   "execution_count": 18,
   "id": "7a9e6a0d-a720-4037-a782-de156ad036f4",
   "metadata": {},
   "outputs": [
    {
     "name": "stdout",
     "output_type": "stream",
     "text": [
      "DeathRate mean: 192.92415966386554\n"
     ]
    }
   ],
   "source": [
    "# concatenated string and numeric output\n",
    "print(\"DeathRate mean: \" + str(mortality_data.DeathRate.mean()))"
   ]
  },
  {
   "cell_type": "code",
   "execution_count": 19,
   "id": "f2deea9a-cd66-4bf7-8673-8b0a986efb80",
   "metadata": {},
   "outputs": [
    {
     "name": "stdout",
     "output_type": "stream",
     "text": [
      "DeathRate mean: 192.92\n"
     ]
    }
   ],
   "source": [
    "# same above, formatted to two decimal places\n",
    "print(\"DeathRate mean: \"\n",
    "      + str(format(mortality_data.DeathRate.mean(), \".2f\")))"
   ]
  },
  {
   "cell_type": "code",
   "execution_count": 20,
   "id": "45a9189b-509a-49e1-9973-4ccb34fc83a8",
   "metadata": {},
   "outputs": [
    {
     "name": "stdout",
     "output_type": "stream",
     "text": [
      "AgeGroup     5-9 Years\n",
      "DeathRate       1983.8\n",
      "dtype: object\n"
     ]
    }
   ],
   "source": [
    "# display max agegroup and deathrate vals\n",
    "print(mortality_data[['AgeGroup','DeathRate']].max())"
   ]
  },
  {
   "cell_type": "code",
   "execution_count": 21,
   "id": "bfd43686-db57-4dc3-857b-b4955f26016d",
   "metadata": {},
   "outputs": [
    {
     "name": "stdout",
     "output_type": "stream",
     "text": [
      "Year         476\n",
      "AgeGroup     476\n",
      "DeathRate    476\n",
      "dtype: int64\n"
     ]
    }
   ],
   "source": [
    "# display total numbers (all cols except null)\n",
    "print(mortality_data.count())"
   ]
  },
  {
   "cell_type": "code",
   "execution_count": 23,
   "id": "7d0418f9-c138-42ee-891c-293431c51151",
   "metadata": {},
   "outputs": [
    {
     "name": "stdout",
     "output_type": "stream",
     "text": [
      "       Year\n",
      "0.5  1959.0\n",
      "Year    1959.0\n",
      "dtype: float64\n"
     ]
    }
   ],
   "source": [
    "# using pandas quantile() func, display 50% value of Year col, then verify using median()\n",
    "print(mortality_data[['Year']].quantile([.5]))\n",
    "print(mortality_data[['Year']].median())"
   ]
  },
  {
   "cell_type": "code",
   "execution_count": 24,
   "id": "b34ccafd-d645-470f-b94c-3672388d90d1",
   "metadata": {},
   "outputs": [
    {
     "name": "stdout",
     "output_type": "stream",
     "text": [
      "       Year  DeathRate\n",
      "0.5  1959.0       89.5\n",
      "Year         1959.0\n",
      "DeathRate      89.5\n",
      "dtype: float64\n"
     ]
    }
   ],
   "source": [
    "# same as above\n",
    "print(mortality_data[['Year','DeathRate']].quantile([.5]))\n",
    "print(mortality_data[['Year','DeathRate']].median())"
   ]
  },
  {
   "cell_type": "code",
   "execution_count": 25,
   "id": "26bd849c-06bb-4a44-bd7a-1bc163e22a2d",
   "metadata": {},
   "outputs": [
    {
     "name": "stdout",
     "output_type": "stream",
     "text": [
      "       Year  DeathRate\n",
      "0.1  1911.5      21.50\n",
      "0.9  2006.5     430.85\n"
     ]
    }
   ],
   "source": [
    "# same as above, using 10 and 90%\n",
    "print(mortality_data.quantile([.1,.9], numeric_only=True))"
   ]
  },
  {
   "cell_type": "code",
   "execution_count": 26,
   "id": "11508c8a-7f59-4d33-93ba-1f6476b8d4c1",
   "metadata": {},
   "outputs": [
    {
     "name": "stdout",
     "output_type": "stream",
     "text": [
      "0       1983.8\n",
      "1       3678.8\n",
      "2       5334.5\n",
      "3       6876.6\n",
      "4       8468.1\n",
      "        ...   \n",
      "471    91631.7\n",
      "472    91680.0\n",
      "473    91731.2\n",
      "474    91782.7\n",
      "475    91831.9\n",
      "Name: DeathRate, Length: 476, dtype: float64\n"
     ]
    }
   ],
   "source": [
    "# display cumulative sum of DeathRate\n",
    "print(mortality_data['DeathRate'].cumsum())"
   ]
  },
  {
   "cell_type": "code",
   "execution_count": 27,
   "id": "96172b0a-6426-48f6-973c-4f67377fb8b3",
   "metadata": {},
   "outputs": [
    {
     "name": "stdout",
     "output_type": "stream",
     "text": [
      "0    1983.8\n",
      "1    1695.0\n",
      "2    1655.7\n",
      "3    1542.1\n",
      "4    1591.5\n",
      "Name: DeathRate, dtype: float64\n"
     ]
    }
   ],
   "source": [
    "# verify cumsum() func by displaying first 5 of deathrate col\n",
    "print(mortality_data['DeathRate'].head(5))"
   ]
  },
  {
   "cell_type": "markdown",
   "id": "1f2275f4-3e59-41b4-b748-9f4d3ad24927",
   "metadata": {},
   "source": [
    "### Preparing data - column arithmetic"
   ]
  },
  {
   "cell_type": "code",
   "execution_count": 28,
   "id": "43ce39aa-d5a8-4bc0-8a87-093a2d8bf1bf",
   "metadata": {},
   "outputs": [],
   "source": [
    "# create and display two new cols, mean and meancentered using col arithmetic \n",
    "mortality_data['Mean'] = mortality_data.DeathRate.mean()\n",
    "mortality_data['MeanCentered'] = \\\n",
    "    mortality_data.DeathRate - mortality_data.DeathRate.mean()"
   ]
  },
  {
   "cell_type": "code",
   "execution_count": 29,
   "id": "eb2b68e6-e2ef-43ad-9c2d-b1aedba29c90",
   "metadata": {},
   "outputs": [
    {
     "name": "stdout",
     "output_type": "stream",
     "text": [
      "     Year     AgeGroup  DeathRate       Mean  MeanCentered\n",
      "0    1900    1-4 Years     1983.8  192.92416    1790.87584\n",
      "1    1901    1-4 Years     1695.0  192.92416    1502.07584\n",
      "2    1902    1-4 Years     1655.7  192.92416    1462.77584\n",
      "3    1903    1-4 Years     1542.1  192.92416    1349.17584\n",
      "4    1904    1-4 Years     1591.5  192.92416    1398.57584\n",
      "..    ...          ...        ...        ...           ...\n",
      "471  2014  15-19 Years       45.5  192.92416    -147.42416\n",
      "472  2015  15-19 Years       48.3  192.92416    -144.62416\n",
      "473  2016  15-19 Years       51.2  192.92416    -141.72416\n",
      "474  2017  15-19 Years       51.5  192.92416    -141.42416\n",
      "475  2018  15-19 Years       49.2  192.92416    -143.72416\n",
      "\n",
      "[476 rows x 5 columns]\n"
     ]
    }
   ],
   "source": [
    "# print mortalitydata DF\n",
    "print(mortality_data)"
   ]
  },
  {
   "cell_type": "markdown",
   "id": "72d7068b-bd3a-4c30-99e9-f4bde9491a75",
   "metadata": {},
   "source": [
    "### Preparing data - modify string data in column"
   ]
  },
  {
   "cell_type": "code",
   "execution_count": 30,
   "id": "a23b75c2-057b-46bd-8670-e4c079c4b004",
   "metadata": {},
   "outputs": [],
   "source": [
    "# modify col names so that col names are treated 'equally'\n",
    "mortality_data.AgeGroup.replace(\n",
    "    {'1-4 Years':'01-04 Years','5-9 Years':'05-09 Years'},\n",
    "    inplace=True)"
   ]
  },
  {
   "cell_type": "markdown",
   "id": "709e5917-3c64-4622-987f-d5e1bfd442bd",
   "metadata": {},
   "source": [
    "### Save prepped DataFrame to pickle file, then read"
   ]
  },
  {
   "cell_type": "code",
   "execution_count": 31,
   "id": "9a2bed6b-f20c-43dc-9367-a9add7399438",
   "metadata": {},
   "outputs": [],
   "source": [
    "mortality_data.to_pickle('mortality_prepped.pkl')"
   ]
  },
  {
   "cell_type": "code",
   "execution_count": 32,
   "id": "c9980992-243d-43de-b862-40901cb2da82",
   "metadata": {},
   "outputs": [
    {
     "data": {
      "text/html": [
       "<div>\n",
       "<style scoped>\n",
       "    .dataframe tbody tr th:only-of-type {\n",
       "        vertical-align: middle;\n",
       "    }\n",
       "\n",
       "    .dataframe tbody tr th {\n",
       "        vertical-align: top;\n",
       "    }\n",
       "\n",
       "    .dataframe thead th {\n",
       "        text-align: right;\n",
       "    }\n",
       "</style>\n",
       "<table border=\"1\" class=\"dataframe\">\n",
       "  <thead>\n",
       "    <tr style=\"text-align: right;\">\n",
       "      <th></th>\n",
       "      <th>Year</th>\n",
       "      <th>AgeGroup</th>\n",
       "      <th>DeathRate</th>\n",
       "      <th>Mean</th>\n",
       "      <th>MeanCentered</th>\n",
       "    </tr>\n",
       "  </thead>\n",
       "  <tbody>\n",
       "    <tr>\n",
       "      <th>0</th>\n",
       "      <td>1900</td>\n",
       "      <td>01-04 Years</td>\n",
       "      <td>1983.8</td>\n",
       "      <td>192.92416</td>\n",
       "      <td>1790.87584</td>\n",
       "    </tr>\n",
       "    <tr>\n",
       "      <th>1</th>\n",
       "      <td>1901</td>\n",
       "      <td>01-04 Years</td>\n",
       "      <td>1695.0</td>\n",
       "      <td>192.92416</td>\n",
       "      <td>1502.07584</td>\n",
       "    </tr>\n",
       "    <tr>\n",
       "      <th>2</th>\n",
       "      <td>1902</td>\n",
       "      <td>01-04 Years</td>\n",
       "      <td>1655.7</td>\n",
       "      <td>192.92416</td>\n",
       "      <td>1462.77584</td>\n",
       "    </tr>\n",
       "    <tr>\n",
       "      <th>3</th>\n",
       "      <td>1903</td>\n",
       "      <td>01-04 Years</td>\n",
       "      <td>1542.1</td>\n",
       "      <td>192.92416</td>\n",
       "      <td>1349.17584</td>\n",
       "    </tr>\n",
       "    <tr>\n",
       "      <th>4</th>\n",
       "      <td>1904</td>\n",
       "      <td>01-04 Years</td>\n",
       "      <td>1591.5</td>\n",
       "      <td>192.92416</td>\n",
       "      <td>1398.57584</td>\n",
       "    </tr>\n",
       "  </tbody>\n",
       "</table>\n",
       "</div>"
      ],
      "text/plain": [
       "   Year     AgeGroup  DeathRate       Mean  MeanCentered\n",
       "0  1900  01-04 Years     1983.8  192.92416    1790.87584\n",
       "1  1901  01-04 Years     1695.0  192.92416    1502.07584\n",
       "2  1902  01-04 Years     1655.7  192.92416    1462.77584\n",
       "3  1903  01-04 Years     1542.1  192.92416    1349.17584\n",
       "4  1904  01-04 Years     1591.5  192.92416    1398.57584"
      ]
     },
     "execution_count": 32,
     "metadata": {},
     "output_type": "execute_result"
    }
   ],
   "source": [
    "# read prepped DF from pickle and print first 5 records\n",
    "mortality_data = pd.read_pickle('mortality_prepped.pkl')\n",
    "mortality_data.head()"
   ]
  },
  {
   "cell_type": "markdown",
   "id": "0bc6383c-f00d-4664-9d87-bc66748798db",
   "metadata": {},
   "source": [
    "## Shape data - using index (sometimes makes plotting easier)\n",
    "\n",
    "### Set and use an index"
   ]
  },
  {
   "cell_type": "code",
   "execution_count": 33,
   "id": "0a70f9ac-b40a-47ca-a313-e61d03035b92",
   "metadata": {},
   "outputs": [
    {
     "data": {
      "text/html": [
       "<div>\n",
       "<style scoped>\n",
       "    .dataframe tbody tr th:only-of-type {\n",
       "        vertical-align: middle;\n",
       "    }\n",
       "\n",
       "    .dataframe tbody tr th {\n",
       "        vertical-align: top;\n",
       "    }\n",
       "\n",
       "    .dataframe thead th {\n",
       "        text-align: right;\n",
       "    }\n",
       "</style>\n",
       "<table border=\"1\" class=\"dataframe\">\n",
       "  <thead>\n",
       "    <tr style=\"text-align: right;\">\n",
       "      <th></th>\n",
       "      <th>Year</th>\n",
       "      <th>AgeGroup</th>\n",
       "      <th>DeathRate</th>\n",
       "      <th>Mean</th>\n",
       "      <th>MeanCentered</th>\n",
       "    </tr>\n",
       "  </thead>\n",
       "  <tbody>\n",
       "    <tr>\n",
       "      <th>0</th>\n",
       "      <td>1900</td>\n",
       "      <td>01-04 Years</td>\n",
       "      <td>1983.8</td>\n",
       "      <td>192.92416</td>\n",
       "      <td>1790.87584</td>\n",
       "    </tr>\n",
       "    <tr>\n",
       "      <th>1</th>\n",
       "      <td>1901</td>\n",
       "      <td>01-04 Years</td>\n",
       "      <td>1695.0</td>\n",
       "      <td>192.92416</td>\n",
       "      <td>1502.07584</td>\n",
       "    </tr>\n",
       "  </tbody>\n",
       "</table>\n",
       "</div>"
      ],
      "text/plain": [
       "   Year     AgeGroup  DeathRate       Mean  MeanCentered\n",
       "0  1900  01-04 Years     1983.8  192.92416    1790.87584\n",
       "1  1901  01-04 Years     1695.0  192.92416    1502.07584"
      ]
     },
     "execution_count": 33,
     "metadata": {},
     "output_type": "execute_result"
    }
   ],
   "source": [
    "# display first 2 records\n",
    "mortality_data.head(2)"
   ]
  },
  {
   "cell_type": "code",
   "execution_count": 34,
   "id": "7cb03cbc-5b28-4c92-b451-b9b10f12cd2b",
   "metadata": {},
   "outputs": [
    {
     "data": {
      "text/html": [
       "<div>\n",
       "<style scoped>\n",
       "    .dataframe tbody tr th:only-of-type {\n",
       "        vertical-align: middle;\n",
       "    }\n",
       "\n",
       "    .dataframe tbody tr th {\n",
       "        vertical-align: top;\n",
       "    }\n",
       "\n",
       "    .dataframe thead th {\n",
       "        text-align: right;\n",
       "    }\n",
       "</style>\n",
       "<table border=\"1\" class=\"dataframe\">\n",
       "  <thead>\n",
       "    <tr style=\"text-align: right;\">\n",
       "      <th></th>\n",
       "      <th>AgeGroup</th>\n",
       "      <th>DeathRate</th>\n",
       "      <th>Mean</th>\n",
       "      <th>MeanCentered</th>\n",
       "    </tr>\n",
       "    <tr>\n",
       "      <th>Year</th>\n",
       "      <th></th>\n",
       "      <th></th>\n",
       "      <th></th>\n",
       "      <th></th>\n",
       "    </tr>\n",
       "  </thead>\n",
       "  <tbody>\n",
       "    <tr>\n",
       "      <th>1900</th>\n",
       "      <td>01-04 Years</td>\n",
       "      <td>1983.8</td>\n",
       "      <td>192.92416</td>\n",
       "      <td>1790.87584</td>\n",
       "    </tr>\n",
       "    <tr>\n",
       "      <th>1901</th>\n",
       "      <td>01-04 Years</td>\n",
       "      <td>1695.0</td>\n",
       "      <td>192.92416</td>\n",
       "      <td>1502.07584</td>\n",
       "    </tr>\n",
       "  </tbody>\n",
       "</table>\n",
       "</div>"
      ],
      "text/plain": [
       "         AgeGroup  DeathRate       Mean  MeanCentered\n",
       "Year                                                 \n",
       "1900  01-04 Years     1983.8  192.92416    1790.87584\n",
       "1901  01-04 Years     1695.0  192.92416    1502.07584"
      ]
     },
     "execution_count": 34,
     "metadata": {},
     "output_type": "execute_result"
    }
   ],
   "source": [
    "# index year col, then display first two records\n",
    "mortality_data = mortality_data.set_index('Year')\n",
    "mortality_data.head(2)"
   ]
  },
  {
   "cell_type": "code",
   "execution_count": 35,
   "id": "0fcfcb8f-e1a4-4514-a7e9-7e2d09dec4b8",
   "metadata": {},
   "outputs": [
    {
     "data": {
      "text/html": [
       "<div>\n",
       "<style scoped>\n",
       "    .dataframe tbody tr th:only-of-type {\n",
       "        vertical-align: middle;\n",
       "    }\n",
       "\n",
       "    .dataframe tbody tr th {\n",
       "        vertical-align: top;\n",
       "    }\n",
       "\n",
       "    .dataframe thead th {\n",
       "        text-align: right;\n",
       "    }\n",
       "</style>\n",
       "<table border=\"1\" class=\"dataframe\">\n",
       "  <thead>\n",
       "    <tr style=\"text-align: right;\">\n",
       "      <th></th>\n",
       "      <th>Year</th>\n",
       "      <th>AgeGroup</th>\n",
       "      <th>DeathRate</th>\n",
       "      <th>Mean</th>\n",
       "      <th>MeanCentered</th>\n",
       "    </tr>\n",
       "  </thead>\n",
       "  <tbody>\n",
       "    <tr>\n",
       "      <th>0</th>\n",
       "      <td>1900</td>\n",
       "      <td>01-04 Years</td>\n",
       "      <td>1983.8</td>\n",
       "      <td>192.92416</td>\n",
       "      <td>1790.87584</td>\n",
       "    </tr>\n",
       "    <tr>\n",
       "      <th>1</th>\n",
       "      <td>1901</td>\n",
       "      <td>01-04 Years</td>\n",
       "      <td>1695.0</td>\n",
       "      <td>192.92416</td>\n",
       "      <td>1502.07584</td>\n",
       "    </tr>\n",
       "  </tbody>\n",
       "</table>\n",
       "</div>"
      ],
      "text/plain": [
       "   Year     AgeGroup  DeathRate       Mean  MeanCentered\n",
       "0  1900  01-04 Years     1983.8  192.92416    1790.87584\n",
       "1  1901  01-04 Years     1695.0  192.92416    1502.07584"
      ]
     },
     "execution_count": 35,
     "metadata": {},
     "output_type": "execute_result"
    }
   ],
   "source": [
    "# reset original index, then display first two records\n",
    "mortality_data.reset_index(inplace=True)\n",
    "mortality_data.head(2)"
   ]
  },
  {
   "cell_type": "code",
   "execution_count": 36,
   "id": "f5842c7a-327f-4a24-a0bf-e4a90f9fa043",
   "metadata": {},
   "outputs": [
    {
     "data": {
      "text/html": [
       "<div>\n",
       "<style scoped>\n",
       "    .dataframe tbody tr th:only-of-type {\n",
       "        vertical-align: middle;\n",
       "    }\n",
       "\n",
       "    .dataframe tbody tr th {\n",
       "        vertical-align: top;\n",
       "    }\n",
       "\n",
       "    .dataframe thead th {\n",
       "        text-align: right;\n",
       "    }\n",
       "</style>\n",
       "<table border=\"1\" class=\"dataframe\">\n",
       "  <thead>\n",
       "    <tr style=\"text-align: right;\">\n",
       "      <th></th>\n",
       "      <th></th>\n",
       "      <th>DeathRate</th>\n",
       "      <th>Mean</th>\n",
       "      <th>MeanCentered</th>\n",
       "    </tr>\n",
       "    <tr>\n",
       "      <th>Year</th>\n",
       "      <th>AgeGroup</th>\n",
       "      <th></th>\n",
       "      <th></th>\n",
       "      <th></th>\n",
       "    </tr>\n",
       "  </thead>\n",
       "  <tbody>\n",
       "    <tr>\n",
       "      <th>1900</th>\n",
       "      <th>01-04 Years</th>\n",
       "      <td>1983.8</td>\n",
       "      <td>192.92416</td>\n",
       "      <td>1790.87584</td>\n",
       "    </tr>\n",
       "    <tr>\n",
       "      <th>1901</th>\n",
       "      <th>01-04 Years</th>\n",
       "      <td>1695.0</td>\n",
       "      <td>192.92416</td>\n",
       "      <td>1502.07584</td>\n",
       "    </tr>\n",
       "  </tbody>\n",
       "</table>\n",
       "</div>"
      ],
      "text/plain": [
       "                  DeathRate       Mean  MeanCentered\n",
       "Year AgeGroup                                       \n",
       "1900 01-04 Years     1983.8  192.92416    1790.87584\n",
       "1901 01-04 Years     1695.0  192.92416    1502.07584"
      ]
     },
     "execution_count": 36,
     "metadata": {},
     "output_type": "execute_result"
    }
   ],
   "source": [
    "# create multi-index, check validity (no dups), display first two records\n",
    "mortality_data = mortality_data.set_index(\n",
    "    ['Year', 'AgeGroup'], verify_integrity=True)\n",
    "mortality_data.head(2)"
   ]
  },
  {
   "cell_type": "code",
   "execution_count": 37,
   "id": "fc166da2-d18f-488f-8999-909346a763ca",
   "metadata": {},
   "outputs": [
    {
     "data": {
      "text/html": [
       "<div>\n",
       "<style scoped>\n",
       "    .dataframe tbody tr th:only-of-type {\n",
       "        vertical-align: middle;\n",
       "    }\n",
       "\n",
       "    .dataframe tbody tr th {\n",
       "        vertical-align: top;\n",
       "    }\n",
       "\n",
       "    .dataframe thead th {\n",
       "        text-align: right;\n",
       "    }\n",
       "</style>\n",
       "<table border=\"1\" class=\"dataframe\">\n",
       "  <thead>\n",
       "    <tr style=\"text-align: right;\">\n",
       "      <th></th>\n",
       "      <th>Year</th>\n",
       "      <th>AgeGroup</th>\n",
       "      <th>DeathRate</th>\n",
       "      <th>Mean</th>\n",
       "      <th>MeanCentered</th>\n",
       "    </tr>\n",
       "  </thead>\n",
       "  <tbody>\n",
       "    <tr>\n",
       "      <th>0</th>\n",
       "      <td>1900</td>\n",
       "      <td>01-04 Years</td>\n",
       "      <td>1983.8</td>\n",
       "      <td>192.92416</td>\n",
       "      <td>1790.87584</td>\n",
       "    </tr>\n",
       "    <tr>\n",
       "      <th>1</th>\n",
       "      <td>1901</td>\n",
       "      <td>01-04 Years</td>\n",
       "      <td>1695.0</td>\n",
       "      <td>192.92416</td>\n",
       "      <td>1502.07584</td>\n",
       "    </tr>\n",
       "  </tbody>\n",
       "</table>\n",
       "</div>"
      ],
      "text/plain": [
       "   Year     AgeGroup  DeathRate       Mean  MeanCentered\n",
       "0  1900  01-04 Years     1983.8  192.92416    1790.87584\n",
       "1  1901  01-04 Years     1695.0  192.92416    1502.07584"
      ]
     },
     "execution_count": 37,
     "metadata": {},
     "output_type": "execute_result"
    }
   ],
   "source": [
    "# reset original index using inplace, display first two records\n",
    "mortality_data.reset_index(inplace=True)\n",
    "mortality_data.head(2)"
   ]
  },
  {
   "cell_type": "markdown",
   "id": "82adcd12-f700-4461-beda-4ac7204f7d2e",
   "metadata": {},
   "source": [
    "### Shape data - using pivot (wide data)\n",
    "\n",
    "-  Similar to spreadsheet\n",
    "-  Each observation defined by both\n",
    "   1. value at cell in table, and\n",
    "   2. coordinates of cell within respect to row and column indices\n",
    "-  Note: Cannot access variables in dataset by name\n",
    "\n",
    "### Pandas pivot() function:\n",
    "\n",
    "#### Parameters:\n",
    "\n",
    "-  index: Column to use to make new DataFrame's index. If None, uses exisiting index\n",
    "-  columns: Column to use to make new DataFrame's columns\n",
    "-  values: Column(s) to use for populating new DataFrame's values. If not specified all remaining columns used\n",
    "-  Returns: Reshaped DataFrame\n",
    "-  Exception: ValueError raised if there are any duplicate indexes"
   ]
  },
  {
   "cell_type": "code",
   "execution_count": 38,
   "id": "e62f3491-b6e7-4962-b271-ec5409356af8",
   "metadata": {},
   "outputs": [
    {
     "data": {
      "text/html": [
       "<div>\n",
       "<style scoped>\n",
       "    .dataframe tbody tr th:only-of-type {\n",
       "        vertical-align: middle;\n",
       "    }\n",
       "\n",
       "    .dataframe tbody tr th {\n",
       "        vertical-align: top;\n",
       "    }\n",
       "\n",
       "    .dataframe thead tr th {\n",
       "        text-align: left;\n",
       "    }\n",
       "\n",
       "    .dataframe thead tr:last-of-type th {\n",
       "        text-align: right;\n",
       "    }\n",
       "</style>\n",
       "<table border=\"1\" class=\"dataframe\">\n",
       "  <thead>\n",
       "    <tr>\n",
       "      <th></th>\n",
       "      <th colspan=\"4\" halign=\"left\">DeathRate</th>\n",
       "      <th colspan=\"4\" halign=\"left\">Mean</th>\n",
       "      <th colspan=\"4\" halign=\"left\">MeanCentered</th>\n",
       "    </tr>\n",
       "    <tr>\n",
       "      <th>AgeGroup</th>\n",
       "      <th>01-04 Years</th>\n",
       "      <th>05-09 Years</th>\n",
       "      <th>10-14 Years</th>\n",
       "      <th>15-19 Years</th>\n",
       "      <th>01-04 Years</th>\n",
       "      <th>05-09 Years</th>\n",
       "      <th>10-14 Years</th>\n",
       "      <th>15-19 Years</th>\n",
       "      <th>01-04 Years</th>\n",
       "      <th>05-09 Years</th>\n",
       "      <th>10-14 Years</th>\n",
       "      <th>15-19 Years</th>\n",
       "    </tr>\n",
       "    <tr>\n",
       "      <th>Year</th>\n",
       "      <th></th>\n",
       "      <th></th>\n",
       "      <th></th>\n",
       "      <th></th>\n",
       "      <th></th>\n",
       "      <th></th>\n",
       "      <th></th>\n",
       "      <th></th>\n",
       "      <th></th>\n",
       "      <th></th>\n",
       "      <th></th>\n",
       "      <th></th>\n",
       "    </tr>\n",
       "  </thead>\n",
       "  <tbody>\n",
       "    <tr>\n",
       "      <th>1900</th>\n",
       "      <td>1983.8</td>\n",
       "      <td>466.1</td>\n",
       "      <td>298.3</td>\n",
       "      <td>484.8</td>\n",
       "      <td>192.92416</td>\n",
       "      <td>192.92416</td>\n",
       "      <td>192.92416</td>\n",
       "      <td>192.92416</td>\n",
       "      <td>1790.87584</td>\n",
       "      <td>273.17584</td>\n",
       "      <td>105.37584</td>\n",
       "      <td>291.87584</td>\n",
       "    </tr>\n",
       "    <tr>\n",
       "      <th>1901</th>\n",
       "      <td>1695.0</td>\n",
       "      <td>427.6</td>\n",
       "      <td>273.6</td>\n",
       "      <td>454.4</td>\n",
       "      <td>192.92416</td>\n",
       "      <td>192.92416</td>\n",
       "      <td>192.92416</td>\n",
       "      <td>192.92416</td>\n",
       "      <td>1502.07584</td>\n",
       "      <td>234.67584</td>\n",
       "      <td>80.67584</td>\n",
       "      <td>261.47584</td>\n",
       "    </tr>\n",
       "    <tr>\n",
       "      <th>1902</th>\n",
       "      <td>1655.7</td>\n",
       "      <td>403.3</td>\n",
       "      <td>252.5</td>\n",
       "      <td>421.5</td>\n",
       "      <td>192.92416</td>\n",
       "      <td>192.92416</td>\n",
       "      <td>192.92416</td>\n",
       "      <td>192.92416</td>\n",
       "      <td>1462.77584</td>\n",
       "      <td>210.37584</td>\n",
       "      <td>59.57584</td>\n",
       "      <td>228.57584</td>\n",
       "    </tr>\n",
       "  </tbody>\n",
       "</table>\n",
       "</div>"
      ],
      "text/plain": [
       "           DeathRate                                            Mean  \\\n",
       "AgeGroup 01-04 Years 05-09 Years 10-14 Years 15-19 Years 01-04 Years   \n",
       "Year                                                                   \n",
       "1900          1983.8       466.1       298.3       484.8   192.92416   \n",
       "1901          1695.0       427.6       273.6       454.4   192.92416   \n",
       "1902          1655.7       403.3       252.5       421.5   192.92416   \n",
       "\n",
       "                                             MeanCentered              \\\n",
       "AgeGroup 05-09 Years 10-14 Years 15-19 Years  01-04 Years 05-09 Years   \n",
       "Year                                                                    \n",
       "1900       192.92416   192.92416   192.92416   1790.87584   273.17584   \n",
       "1901       192.92416   192.92416   192.92416   1502.07584   234.67584   \n",
       "1902       192.92416   192.92416   192.92416   1462.77584   210.37584   \n",
       "\n",
       "                                  \n",
       "AgeGroup 10-14 Years 15-19 Years  \n",
       "Year                              \n",
       "1900       105.37584   291.87584  \n",
       "1901        80.67584   261.47584  \n",
       "1902        59.57584   228.57584  "
      ]
     },
     "execution_count": 38,
     "metadata": {},
     "output_type": "execute_result"
    }
   ],
   "source": [
    "# pivot the following dataframe: index=Year, cols=AgeGroup\n",
    "mortality_wide = mortality_data.pivot(index=\"Year\",columns=\"AgeGroup\")\n",
    "mortality_wide.head(3)"
   ]
  },
  {
   "cell_type": "code",
   "execution_count": 39,
   "id": "5a9f8445-81e7-4049-b7f3-3304842ff2a5",
   "metadata": {},
   "outputs": [
    {
     "data": {
      "text/html": [
       "<div>\n",
       "<style scoped>\n",
       "    .dataframe tbody tr th:only-of-type {\n",
       "        vertical-align: middle;\n",
       "    }\n",
       "\n",
       "    .dataframe tbody tr th {\n",
       "        vertical-align: top;\n",
       "    }\n",
       "\n",
       "    .dataframe thead th {\n",
       "        text-align: right;\n",
       "    }\n",
       "</style>\n",
       "<table border=\"1\" class=\"dataframe\">\n",
       "  <thead>\n",
       "    <tr style=\"text-align: right;\">\n",
       "      <th>AgeGroup</th>\n",
       "      <th>01-04 Years</th>\n",
       "      <th>05-09 Years</th>\n",
       "      <th>10-14 Years</th>\n",
       "      <th>15-19 Years</th>\n",
       "    </tr>\n",
       "    <tr>\n",
       "      <th>Year</th>\n",
       "      <th></th>\n",
       "      <th></th>\n",
       "      <th></th>\n",
       "      <th></th>\n",
       "    </tr>\n",
       "  </thead>\n",
       "  <tbody>\n",
       "    <tr>\n",
       "      <th>1900</th>\n",
       "      <td>1983.8</td>\n",
       "      <td>466.1</td>\n",
       "      <td>298.3</td>\n",
       "      <td>484.8</td>\n",
       "    </tr>\n",
       "    <tr>\n",
       "      <th>1901</th>\n",
       "      <td>1695.0</td>\n",
       "      <td>427.6</td>\n",
       "      <td>273.6</td>\n",
       "      <td>454.4</td>\n",
       "    </tr>\n",
       "    <tr>\n",
       "      <th>1902</th>\n",
       "      <td>1655.7</td>\n",
       "      <td>403.3</td>\n",
       "      <td>252.5</td>\n",
       "      <td>421.5</td>\n",
       "    </tr>\n",
       "  </tbody>\n",
       "</table>\n",
       "</div>"
      ],
      "text/plain": [
       "AgeGroup  01-04 Years  05-09 Years  10-14 Years  15-19 Years\n",
       "Year                                                        \n",
       "1900           1983.8        466.1        298.3        484.8\n",
       "1901           1695.0        427.6        273.6        454.4\n",
       "1902           1655.7        403.3        252.5        421.5"
      ]
     },
     "execution_count": 39,
     "metadata": {},
     "output_type": "execute_result"
    }
   ],
   "source": [
    "mortality_wide = mortality_data.pivot(index=\"Year\", columns=\"AgeGroup\", values=\"DeathRate\")\n",
    "mortality_wide.head(3)"
   ]
  },
  {
   "cell_type": "code",
   "execution_count": 40,
   "id": "b17a5d26-7803-4d02-9ab7-c0883b654592",
   "metadata": {},
   "outputs": [],
   "source": [
    "# save wide dataframe to excel file\n",
    "mortality_wide.to_excel('mortality_wide.xlsx')"
   ]
  },
  {
   "cell_type": "code",
   "execution_count": 41,
   "id": "80823f25-89fa-48da-8705-9b87661babef",
   "metadata": {},
   "outputs": [
    {
     "name": "stdout",
     "output_type": "stream",
     "text": [
      "   Year  01-04 Years  05-09 Years  10-14 Years  15-19 Years\n",
      "0  1900       1983.8        466.1        298.3        484.8\n",
      "1  1901       1695.0        427.6        273.6        454.4\n",
      "2  1902       1655.7        403.3        252.5        421.5\n",
      "3  1903       1542.1        414.7        268.2        434.1\n"
     ]
    }
   ],
   "source": [
    "# read saved excel file\n",
    "mortality_wide = pd.read_excel('mortality_wide.xlsx')\n",
    "print(mortality_wide.head(4))"
   ]
  },
  {
   "cell_type": "code",
   "execution_count": 42,
   "id": "67f1ae9a-1cd5-40a6-ad09-308b3ff78684",
   "metadata": {},
   "outputs": [],
   "source": [
    "# save wide dataframe to pickle file\n",
    "mortality_wide.to_pickle('mortality_wide.pkl')"
   ]
  },
  {
   "cell_type": "code",
   "execution_count": 43,
   "id": "e93d16cf-c463-4995-8164-96983fc7d7fd",
   "metadata": {},
   "outputs": [
    {
     "data": {
      "text/html": [
       "<div>\n",
       "<style scoped>\n",
       "    .dataframe tbody tr th:only-of-type {\n",
       "        vertical-align: middle;\n",
       "    }\n",
       "\n",
       "    .dataframe tbody tr th {\n",
       "        vertical-align: top;\n",
       "    }\n",
       "\n",
       "    .dataframe thead th {\n",
       "        text-align: right;\n",
       "    }\n",
       "</style>\n",
       "<table border=\"1\" class=\"dataframe\">\n",
       "  <thead>\n",
       "    <tr style=\"text-align: right;\">\n",
       "      <th></th>\n",
       "      <th>Year</th>\n",
       "      <th>01-04 Years</th>\n",
       "      <th>05-09 Years</th>\n",
       "      <th>10-14 Years</th>\n",
       "      <th>15-19 Years</th>\n",
       "    </tr>\n",
       "  </thead>\n",
       "  <tbody>\n",
       "    <tr>\n",
       "      <th>0</th>\n",
       "      <td>1900</td>\n",
       "      <td>1983.8</td>\n",
       "      <td>466.1</td>\n",
       "      <td>298.3</td>\n",
       "      <td>484.8</td>\n",
       "    </tr>\n",
       "    <tr>\n",
       "      <th>1</th>\n",
       "      <td>1901</td>\n",
       "      <td>1695.0</td>\n",
       "      <td>427.6</td>\n",
       "      <td>273.6</td>\n",
       "      <td>454.4</td>\n",
       "    </tr>\n",
       "    <tr>\n",
       "      <th>2</th>\n",
       "      <td>1902</td>\n",
       "      <td>1655.7</td>\n",
       "      <td>403.3</td>\n",
       "      <td>252.5</td>\n",
       "      <td>421.5</td>\n",
       "    </tr>\n",
       "    <tr>\n",
       "      <th>3</th>\n",
       "      <td>1903</td>\n",
       "      <td>1542.1</td>\n",
       "      <td>414.7</td>\n",
       "      <td>268.2</td>\n",
       "      <td>434.1</td>\n",
       "    </tr>\n",
       "    <tr>\n",
       "      <th>4</th>\n",
       "      <td>1904</td>\n",
       "      <td>1591.5</td>\n",
       "      <td>425.0</td>\n",
       "      <td>305.2</td>\n",
       "      <td>471.4</td>\n",
       "    </tr>\n",
       "  </tbody>\n",
       "</table>\n",
       "</div>"
      ],
      "text/plain": [
       "   Year  01-04 Years  05-09 Years  10-14 Years  15-19 Years\n",
       "0  1900       1983.8        466.1        298.3        484.8\n",
       "1  1901       1695.0        427.6        273.6        454.4\n",
       "2  1902       1655.7        403.3        252.5        421.5\n",
       "3  1903       1542.1        414.7        268.2        434.1\n",
       "4  1904       1591.5        425.0        305.2        471.4"
      ]
     },
     "execution_count": 43,
     "metadata": {},
     "output_type": "execute_result"
    }
   ],
   "source": [
    "# read saved pickle file and assign mortality_wide variable\n",
    "mortality_wide = pd.read_pickle('mortality_wide.pkl')\n",
    "mortality_wide.head()"
   ]
  },
  {
   "cell_type": "markdown",
   "id": "97cdfd8f-2887-4dda-82f5-19d4b9274850",
   "metadata": {},
   "source": [
    "### Shape data - using melt (long data)\n",
    "    - Each variable is a column\n",
    "    - Each observation is a row\n",
    "    - can access variables in dataset by name\n",
    "\n",
    "### Pandas melt() function:\n",
    "\n",
    "#### Parameters:\n",
    "  - id_Vars: Columns to use as identifier variables\n",
    "  - value_vars: Columns to unpivot, if not specified uses all cols not set as id_vars\n",
    "  - var_name: Name to use for variable column. If none uses frame.columns.name or variable\n",
    "  - value_name: Name to use for 'value' column\n",
    "  - col_level: If columns multiIndex then use this level to melt\n",
    "  - ignore_index: If true, orignal index ignored. If false, original index retained\n",
    "  - Returns: Reshaped DataFrame"
   ]
  },
  {
   "cell_type": "code",
   "execution_count": 44,
   "id": "a4d32ab6-6de9-4e6a-9c36-9a5780bb538c",
   "metadata": {},
   "outputs": [
    {
     "data": {
      "text/html": [
       "<div>\n",
       "<style scoped>\n",
       "    .dataframe tbody tr th:only-of-type {\n",
       "        vertical-align: middle;\n",
       "    }\n",
       "\n",
       "    .dataframe tbody tr th {\n",
       "        vertical-align: top;\n",
       "    }\n",
       "\n",
       "    .dataframe thead th {\n",
       "        text-align: right;\n",
       "    }\n",
       "</style>\n",
       "<table border=\"1\" class=\"dataframe\">\n",
       "  <thead>\n",
       "    <tr style=\"text-align: right;\">\n",
       "      <th></th>\n",
       "      <th>Year</th>\n",
       "      <th>AgeGroup</th>\n",
       "      <th>DeathRate</th>\n",
       "    </tr>\n",
       "  </thead>\n",
       "  <tbody>\n",
       "    <tr>\n",
       "      <th>0</th>\n",
       "      <td>1900</td>\n",
       "      <td>01-04 Years</td>\n",
       "      <td>1983.8</td>\n",
       "    </tr>\n",
       "    <tr>\n",
       "      <th>1</th>\n",
       "      <td>1901</td>\n",
       "      <td>01-04 Years</td>\n",
       "      <td>1695.0</td>\n",
       "    </tr>\n",
       "    <tr>\n",
       "      <th>2</th>\n",
       "      <td>1902</td>\n",
       "      <td>01-04 Years</td>\n",
       "      <td>1655.7</td>\n",
       "    </tr>\n",
       "    <tr>\n",
       "      <th>3</th>\n",
       "      <td>1903</td>\n",
       "      <td>01-04 Years</td>\n",
       "      <td>1542.1</td>\n",
       "    </tr>\n",
       "  </tbody>\n",
       "</table>\n",
       "</div>"
      ],
      "text/plain": [
       "   Year     AgeGroup  DeathRate\n",
       "0  1900  01-04 Years     1983.8\n",
       "1  1901  01-04 Years     1695.0\n",
       "2  1902  01-04 Years     1655.7\n",
       "3  1903  01-04 Years     1542.1"
      ]
     },
     "execution_count": 44,
     "metadata": {},
     "output_type": "execute_result"
    }
   ],
   "source": [
    "# melt the dataframe: mortality_wide\n",
    "mortality_long = mortality_wide.melt(\n",
    "    id_vars='Year',\n",
    "    value_vars=['01-04 Years', '05-09 Years'],\n",
    "    var_name='AgeGroup',\n",
    "    value_name='DeathRate')\n",
    "mortality_long.head(4)"
   ]
  },
  {
   "cell_type": "code",
   "execution_count": 45,
   "id": "0a3c634f-dffc-482a-baf1-862e9ef96dee",
   "metadata": {},
   "outputs": [
    {
     "name": "stdout",
     "output_type": "stream",
     "text": [
      "     Year     AgeGroup  DeathRate\n",
      "0    1900  01-04 Years     1983.8\n",
      "1    1901  01-04 Years     1695.0\n",
      "2    1902  01-04 Years     1655.7\n",
      "..    ...          ...        ...\n",
      "235  2016  05-09 Years       12.2\n",
      "236  2017  05-09 Years       11.6\n",
      "237  2018  05-09 Years       11.5\n",
      "\n",
      "[238 rows x 3 columns]\n"
     ]
    }
   ],
   "source": [
    "# using pandas option_context() func, display first 3 and last 3 rows\n",
    "with pd.option_context(\n",
    "    'display.max_rows', 6,\n",
    "        'display.max_columns', None):\n",
    "    print(mortality_long)"
   ]
  },
  {
   "cell_type": "markdown",
   "id": "91239a98-baab-434f-a02b-760d497dff7d",
   "metadata": {},
   "source": [
    "### Analyze grouped data using (single) aggregate functions"
   ]
  },
  {
   "cell_type": "code",
   "execution_count": 46,
   "id": "28475000-a787-422f-9527-3405b295a06e",
   "metadata": {},
   "outputs": [
    {
     "data": {
      "text/html": [
       "<div>\n",
       "<style scoped>\n",
       "    .dataframe tbody tr th:only-of-type {\n",
       "        vertical-align: middle;\n",
       "    }\n",
       "\n",
       "    .dataframe tbody tr th {\n",
       "        vertical-align: top;\n",
       "    }\n",
       "\n",
       "    .dataframe thead th {\n",
       "        text-align: right;\n",
       "    }\n",
       "</style>\n",
       "<table border=\"1\" class=\"dataframe\">\n",
       "  <thead>\n",
       "    <tr style=\"text-align: right;\">\n",
       "      <th></th>\n",
       "      <th>Year</th>\n",
       "      <th>AgeGroup</th>\n",
       "      <th>DeathRate</th>\n",
       "      <th>Mean</th>\n",
       "      <th>MeanCentered</th>\n",
       "    </tr>\n",
       "  </thead>\n",
       "  <tbody>\n",
       "    <tr>\n",
       "      <th>0</th>\n",
       "      <td>1900</td>\n",
       "      <td>01-04 Years</td>\n",
       "      <td>1983.8</td>\n",
       "      <td>192.92416</td>\n",
       "      <td>1790.87584</td>\n",
       "    </tr>\n",
       "    <tr>\n",
       "      <th>1</th>\n",
       "      <td>1901</td>\n",
       "      <td>01-04 Years</td>\n",
       "      <td>1695.0</td>\n",
       "      <td>192.92416</td>\n",
       "      <td>1502.07584</td>\n",
       "    </tr>\n",
       "    <tr>\n",
       "      <th>2</th>\n",
       "      <td>1902</td>\n",
       "      <td>01-04 Years</td>\n",
       "      <td>1655.7</td>\n",
       "      <td>192.92416</td>\n",
       "      <td>1462.77584</td>\n",
       "    </tr>\n",
       "    <tr>\n",
       "      <th>3</th>\n",
       "      <td>1903</td>\n",
       "      <td>01-04 Years</td>\n",
       "      <td>1542.1</td>\n",
       "      <td>192.92416</td>\n",
       "      <td>1349.17584</td>\n",
       "    </tr>\n",
       "    <tr>\n",
       "      <th>4</th>\n",
       "      <td>1904</td>\n",
       "      <td>01-04 Years</td>\n",
       "      <td>1591.5</td>\n",
       "      <td>192.92416</td>\n",
       "      <td>1398.57584</td>\n",
       "    </tr>\n",
       "  </tbody>\n",
       "</table>\n",
       "</div>"
      ],
      "text/plain": [
       "   Year     AgeGroup  DeathRate       Mean  MeanCentered\n",
       "0  1900  01-04 Years     1983.8  192.92416    1790.87584\n",
       "1  1901  01-04 Years     1695.0  192.92416    1502.07584\n",
       "2  1902  01-04 Years     1655.7  192.92416    1462.77584\n",
       "3  1903  01-04 Years     1542.1  192.92416    1349.17584\n",
       "4  1904  01-04 Years     1591.5  192.92416    1398.57584"
      ]
     },
     "execution_count": 46,
     "metadata": {},
     "output_type": "execute_result"
    }
   ],
   "source": [
    "# display first 5 records of mortality_data DF\n",
    "mortality_data.head()"
   ]
  },
  {
   "cell_type": "code",
   "execution_count": 47,
   "id": "a6892559-1585-438e-9cfd-8a125ce99445",
   "metadata": {},
   "outputs": [
    {
     "data": {
      "text/html": [
       "<div>\n",
       "<style scoped>\n",
       "    .dataframe tbody tr th:only-of-type {\n",
       "        vertical-align: middle;\n",
       "    }\n",
       "\n",
       "    .dataframe tbody tr th {\n",
       "        vertical-align: top;\n",
       "    }\n",
       "\n",
       "    .dataframe thead th {\n",
       "        text-align: right;\n",
       "    }\n",
       "</style>\n",
       "<table border=\"1\" class=\"dataframe\">\n",
       "  <thead>\n",
       "    <tr style=\"text-align: right;\">\n",
       "      <th></th>\n",
       "      <th>Year</th>\n",
       "      <th>DeathRate</th>\n",
       "      <th>Mean</th>\n",
       "      <th>MeanCentered</th>\n",
       "    </tr>\n",
       "    <tr>\n",
       "      <th>AgeGroup</th>\n",
       "      <th></th>\n",
       "      <th></th>\n",
       "      <th></th>\n",
       "      <th></th>\n",
       "    </tr>\n",
       "  </thead>\n",
       "  <tbody>\n",
       "    <tr>\n",
       "      <th>01-04 Years</th>\n",
       "      <td>1959.0</td>\n",
       "      <td>383.226050</td>\n",
       "      <td>192.92416</td>\n",
       "      <td>190.301891</td>\n",
       "    </tr>\n",
       "    <tr>\n",
       "      <th>05-09 Years</th>\n",
       "      <td>1959.0</td>\n",
       "      <td>117.326050</td>\n",
       "      <td>192.92416</td>\n",
       "      <td>-75.598109</td>\n",
       "    </tr>\n",
       "    <tr>\n",
       "      <th>10-14 Years</th>\n",
       "      <td>1959.0</td>\n",
       "      <td>93.769748</td>\n",
       "      <td>192.92416</td>\n",
       "      <td>-99.154412</td>\n",
       "    </tr>\n",
       "    <tr>\n",
       "      <th>15-19 Years</th>\n",
       "      <td>1959.0</td>\n",
       "      <td>177.374790</td>\n",
       "      <td>192.92416</td>\n",
       "      <td>-15.549370</td>\n",
       "    </tr>\n",
       "  </tbody>\n",
       "</table>\n",
       "</div>"
      ],
      "text/plain": [
       "               Year   DeathRate       Mean  MeanCentered\n",
       "AgeGroup                                                \n",
       "01-04 Years  1959.0  383.226050  192.92416    190.301891\n",
       "05-09 Years  1959.0  117.326050  192.92416    -75.598109\n",
       "10-14 Years  1959.0   93.769748  192.92416    -99.154412\n",
       "15-19 Years  1959.0  177.374790  192.92416    -15.549370"
      ]
     },
     "execution_count": 47,
     "metadata": {},
     "output_type": "execute_result"
    }
   ],
   "source": [
    "# group agegroup by mean\n",
    "mortality_data.groupby('AgeGroup').mean()"
   ]
  },
  {
   "cell_type": "code",
   "execution_count": 48,
   "id": "dc06cb63-25d4-4136-8297-f08a55b02358",
   "metadata": {},
   "outputs": [
    {
     "data": {
      "text/html": [
       "<div>\n",
       "<style scoped>\n",
       "    .dataframe tbody tr th:only-of-type {\n",
       "        vertical-align: middle;\n",
       "    }\n",
       "\n",
       "    .dataframe tbody tr th {\n",
       "        vertical-align: top;\n",
       "    }\n",
       "\n",
       "    .dataframe thead th {\n",
       "        text-align: right;\n",
       "    }\n",
       "</style>\n",
       "<table border=\"1\" class=\"dataframe\">\n",
       "  <thead>\n",
       "    <tr style=\"text-align: right;\">\n",
       "      <th></th>\n",
       "      <th>DeathRate</th>\n",
       "      <th>Mean</th>\n",
       "      <th>MeanCentered</th>\n",
       "    </tr>\n",
       "    <tr>\n",
       "      <th>Year</th>\n",
       "      <th></th>\n",
       "      <th></th>\n",
       "      <th></th>\n",
       "    </tr>\n",
       "  </thead>\n",
       "  <tbody>\n",
       "    <tr>\n",
       "      <th>1900</th>\n",
       "      <td>475.45</td>\n",
       "      <td>192.92416</td>\n",
       "      <td>282.52584</td>\n",
       "    </tr>\n",
       "    <tr>\n",
       "      <th>1901</th>\n",
       "      <td>441.00</td>\n",
       "      <td>192.92416</td>\n",
       "      <td>248.07584</td>\n",
       "    </tr>\n",
       "    <tr>\n",
       "      <th>1902</th>\n",
       "      <td>412.40</td>\n",
       "      <td>192.92416</td>\n",
       "      <td>219.47584</td>\n",
       "    </tr>\n",
       "    <tr>\n",
       "      <th>1903</th>\n",
       "      <td>424.40</td>\n",
       "      <td>192.92416</td>\n",
       "      <td>231.47584</td>\n",
       "    </tr>\n",
       "  </tbody>\n",
       "</table>\n",
       "</div>"
      ],
      "text/plain": [
       "      DeathRate       Mean  MeanCentered\n",
       "Year                                    \n",
       "1900     475.45  192.92416     282.52584\n",
       "1901     441.00  192.92416     248.07584\n",
       "1902     412.40  192.92416     219.47584\n",
       "1903     424.40  192.92416     231.47584"
      ]
     },
     "execution_count": 48,
     "metadata": {},
     "output_type": "execute_result"
    }
   ],
   "source": [
    "# group year by median, display first 4 records\n",
    "mortality_data.groupby('Year').median(numeric_only=True).head(4)"
   ]
  },
  {
   "cell_type": "code",
   "execution_count": 49,
   "id": "54575128-921b-4d64-b9d8-64511af46606",
   "metadata": {},
   "outputs": [
    {
     "data": {
      "text/html": [
       "<div>\n",
       "<style scoped>\n",
       "    .dataframe tbody tr th:only-of-type {\n",
       "        vertical-align: middle;\n",
       "    }\n",
       "\n",
       "    .dataframe tbody tr th {\n",
       "        vertical-align: top;\n",
       "    }\n",
       "\n",
       "    .dataframe thead th {\n",
       "        text-align: right;\n",
       "    }\n",
       "</style>\n",
       "<table border=\"1\" class=\"dataframe\">\n",
       "  <thead>\n",
       "    <tr style=\"text-align: right;\">\n",
       "      <th></th>\n",
       "      <th></th>\n",
       "      <th>DeathRate</th>\n",
       "      <th>Mean</th>\n",
       "      <th>MeanCentered</th>\n",
       "    </tr>\n",
       "    <tr>\n",
       "      <th>Year</th>\n",
       "      <th>AgeGroup</th>\n",
       "      <th></th>\n",
       "      <th></th>\n",
       "      <th></th>\n",
       "    </tr>\n",
       "  </thead>\n",
       "  <tbody>\n",
       "    <tr>\n",
       "      <th rowspan=\"4\" valign=\"top\">1900</th>\n",
       "      <th>01-04 Years</th>\n",
       "      <td>1</td>\n",
       "      <td>1</td>\n",
       "      <td>1</td>\n",
       "    </tr>\n",
       "    <tr>\n",
       "      <th>05-09 Years</th>\n",
       "      <td>1</td>\n",
       "      <td>1</td>\n",
       "      <td>1</td>\n",
       "    </tr>\n",
       "    <tr>\n",
       "      <th>10-14 Years</th>\n",
       "      <td>1</td>\n",
       "      <td>1</td>\n",
       "      <td>1</td>\n",
       "    </tr>\n",
       "    <tr>\n",
       "      <th>15-19 Years</th>\n",
       "      <td>1</td>\n",
       "      <td>1</td>\n",
       "      <td>1</td>\n",
       "    </tr>\n",
       "    <tr>\n",
       "      <th>1901</th>\n",
       "      <th>01-04 Years</th>\n",
       "      <td>1</td>\n",
       "      <td>1</td>\n",
       "      <td>1</td>\n",
       "    </tr>\n",
       "  </tbody>\n",
       "</table>\n",
       "</div>"
      ],
      "text/plain": [
       "                  DeathRate  Mean  MeanCentered\n",
       "Year AgeGroup                                  \n",
       "1900 01-04 Years          1     1             1\n",
       "     05-09 Years          1     1             1\n",
       "     10-14 Years          1     1             1\n",
       "     15-19 Years          1     1             1\n",
       "1901 01-04 Years          1     1             1"
      ]
     },
     "execution_count": 49,
     "metadata": {},
     "output_type": "execute_result"
    }
   ],
   "source": [
    "# group year and agegroup by count and display first 5 records\n",
    "mortality_data.groupby(['Year', 'AgeGroup']).count().head()"
   ]
  },
  {
   "cell_type": "code",
   "execution_count": 50,
   "id": "cc313c68-d07c-47c3-8e71-2faad03fb56d",
   "metadata": {},
   "outputs": [
    {
     "data": {
      "text/html": [
       "<div>\n",
       "<style scoped>\n",
       "    .dataframe tbody tr th:only-of-type {\n",
       "        vertical-align: middle;\n",
       "    }\n",
       "\n",
       "    .dataframe tbody tr th {\n",
       "        vertical-align: top;\n",
       "    }\n",
       "\n",
       "    .dataframe thead th {\n",
       "        text-align: right;\n",
       "    }\n",
       "</style>\n",
       "<table border=\"1\" class=\"dataframe\">\n",
       "  <thead>\n",
       "    <tr style=\"text-align: right;\">\n",
       "      <th></th>\n",
       "      <th>count</th>\n",
       "      <th>mean</th>\n",
       "      <th>std</th>\n",
       "      <th>min</th>\n",
       "      <th>25%</th>\n",
       "      <th>50%</th>\n",
       "      <th>75%</th>\n",
       "      <th>max</th>\n",
       "    </tr>\n",
       "    <tr>\n",
       "      <th>AgeGroup</th>\n",
       "      <th></th>\n",
       "      <th></th>\n",
       "      <th></th>\n",
       "      <th></th>\n",
       "      <th></th>\n",
       "      <th></th>\n",
       "      <th></th>\n",
       "      <th></th>\n",
       "    </tr>\n",
       "  </thead>\n",
       "  <tbody>\n",
       "    <tr>\n",
       "      <th>01-04 Years</th>\n",
       "      <td>119.0</td>\n",
       "      <td>383.226050</td>\n",
       "      <td>500.454211</td>\n",
       "      <td>24.0</td>\n",
       "      <td>50.65</td>\n",
       "      <td>109.1</td>\n",
       "      <td>577.30</td>\n",
       "      <td>1983.8</td>\n",
       "    </tr>\n",
       "    <tr>\n",
       "      <th>05-09 Years</th>\n",
       "      <td>119.0</td>\n",
       "      <td>117.326050</td>\n",
       "      <td>127.474958</td>\n",
       "      <td>11.4</td>\n",
       "      <td>24.00</td>\n",
       "      <td>48.4</td>\n",
       "      <td>198.90</td>\n",
       "      <td>466.1</td>\n",
       "    </tr>\n",
       "    <tr>\n",
       "      <th>10-14 Years</th>\n",
       "      <td>119.0</td>\n",
       "      <td>93.769748</td>\n",
       "      <td>88.404363</td>\n",
       "      <td>13.9</td>\n",
       "      <td>27.20</td>\n",
       "      <td>44.6</td>\n",
       "      <td>158.90</td>\n",
       "      <td>375.1</td>\n",
       "    </tr>\n",
       "    <tr>\n",
       "      <th>15-19 Years</th>\n",
       "      <td>119.0</td>\n",
       "      <td>177.374790</td>\n",
       "      <td>138.362290</td>\n",
       "      <td>44.8</td>\n",
       "      <td>85.45</td>\n",
       "      <td>106.9</td>\n",
       "      <td>283.65</td>\n",
       "      <td>777.4</td>\n",
       "    </tr>\n",
       "  </tbody>\n",
       "</table>\n",
       "</div>"
      ],
      "text/plain": [
       "             count        mean         std   min    25%    50%     75%     max\n",
       "AgeGroup                                                                      \n",
       "01-04 Years  119.0  383.226050  500.454211  24.0  50.65  109.1  577.30  1983.8\n",
       "05-09 Years  119.0  117.326050  127.474958  11.4  24.00   48.4  198.90   466.1\n",
       "10-14 Years  119.0   93.769748   88.404363  13.9  27.20   44.6  158.90   375.1\n",
       "15-19 Years  119.0  177.374790  138.362290  44.8  85.45  106.9  283.65   777.4"
      ]
     },
     "execution_count": 50,
     "metadata": {},
     "output_type": "execute_result"
    }
   ],
   "source": [
    "# group agegroup then return stats summary for deathrate using desrcibe()\n",
    "mortality_data.groupby('AgeGroup')['DeathRate'].describe()"
   ]
  },
  {
   "cell_type": "markdown",
   "id": "3b7e46fd-b393-4908-a9d2-3ac0fa5908c3",
   "metadata": {},
   "source": [
    "### Analyze grouped data using (multiple) aggregate functions"
   ]
  },
  {
   "cell_type": "code",
   "execution_count": 51,
   "id": "c2ba82e8-4bd5-4359-bfc9-28d31a8c5281",
   "metadata": {},
   "outputs": [
    {
     "data": {
      "text/html": [
       "<div>\n",
       "<style scoped>\n",
       "    .dataframe tbody tr th:only-of-type {\n",
       "        vertical-align: middle;\n",
       "    }\n",
       "\n",
       "    .dataframe tbody tr th {\n",
       "        vertical-align: top;\n",
       "    }\n",
       "\n",
       "    .dataframe thead tr th {\n",
       "        text-align: left;\n",
       "    }\n",
       "\n",
       "    .dataframe thead tr:last-of-type th {\n",
       "        text-align: right;\n",
       "    }\n",
       "</style>\n",
       "<table border=\"1\" class=\"dataframe\">\n",
       "  <thead>\n",
       "    <tr>\n",
       "      <th></th>\n",
       "      <th colspan=\"2\" halign=\"left\">Year</th>\n",
       "      <th colspan=\"2\" halign=\"left\">DeathRate</th>\n",
       "      <th colspan=\"2\" halign=\"left\">Mean</th>\n",
       "      <th colspan=\"2\" halign=\"left\">MeanCentered</th>\n",
       "    </tr>\n",
       "    <tr>\n",
       "      <th></th>\n",
       "      <th>mean</th>\n",
       "      <th>median</th>\n",
       "      <th>mean</th>\n",
       "      <th>median</th>\n",
       "      <th>mean</th>\n",
       "      <th>median</th>\n",
       "      <th>mean</th>\n",
       "      <th>median</th>\n",
       "    </tr>\n",
       "    <tr>\n",
       "      <th>AgeGroup</th>\n",
       "      <th></th>\n",
       "      <th></th>\n",
       "      <th></th>\n",
       "      <th></th>\n",
       "      <th></th>\n",
       "      <th></th>\n",
       "      <th></th>\n",
       "      <th></th>\n",
       "    </tr>\n",
       "  </thead>\n",
       "  <tbody>\n",
       "    <tr>\n",
       "      <th>01-04 Years</th>\n",
       "      <td>1959.0</td>\n",
       "      <td>1959.0</td>\n",
       "      <td>383.226050</td>\n",
       "      <td>109.1</td>\n",
       "      <td>192.92416</td>\n",
       "      <td>192.92416</td>\n",
       "      <td>190.301891</td>\n",
       "      <td>-83.82416</td>\n",
       "    </tr>\n",
       "    <tr>\n",
       "      <th>05-09 Years</th>\n",
       "      <td>1959.0</td>\n",
       "      <td>1959.0</td>\n",
       "      <td>117.326050</td>\n",
       "      <td>48.4</td>\n",
       "      <td>192.92416</td>\n",
       "      <td>192.92416</td>\n",
       "      <td>-75.598109</td>\n",
       "      <td>-144.52416</td>\n",
       "    </tr>\n",
       "    <tr>\n",
       "      <th>10-14 Years</th>\n",
       "      <td>1959.0</td>\n",
       "      <td>1959.0</td>\n",
       "      <td>93.769748</td>\n",
       "      <td>44.6</td>\n",
       "      <td>192.92416</td>\n",
       "      <td>192.92416</td>\n",
       "      <td>-99.154412</td>\n",
       "      <td>-148.32416</td>\n",
       "    </tr>\n",
       "    <tr>\n",
       "      <th>15-19 Years</th>\n",
       "      <td>1959.0</td>\n",
       "      <td>1959.0</td>\n",
       "      <td>177.374790</td>\n",
       "      <td>106.9</td>\n",
       "      <td>192.92416</td>\n",
       "      <td>192.92416</td>\n",
       "      <td>-15.549370</td>\n",
       "      <td>-86.02416</td>\n",
       "    </tr>\n",
       "  </tbody>\n",
       "</table>\n",
       "</div>"
      ],
      "text/plain": [
       "               Year           DeathRate              Mean             \\\n",
       "               mean  median        mean median       mean     median   \n",
       "AgeGroup                                                               \n",
       "01-04 Years  1959.0  1959.0  383.226050  109.1  192.92416  192.92416   \n",
       "05-09 Years  1959.0  1959.0  117.326050   48.4  192.92416  192.92416   \n",
       "10-14 Years  1959.0  1959.0   93.769748   44.6  192.92416  192.92416   \n",
       "15-19 Years  1959.0  1959.0  177.374790  106.9  192.92416  192.92416   \n",
       "\n",
       "            MeanCentered             \n",
       "                    mean     median  \n",
       "AgeGroup                             \n",
       "01-04 Years   190.301891  -83.82416  \n",
       "05-09 Years   -75.598109 -144.52416  \n",
       "10-14 Years   -99.154412 -148.32416  \n",
       "15-19 Years   -15.549370  -86.02416  "
      ]
     },
     "execution_count": 51,
     "metadata": {},
     "output_type": "execute_result"
    }
   ],
   "source": [
    "# group agegroup, then using agg() func aggregate all cols using mean and median\n",
    "mortality_data.groupby('AgeGroup').agg(['mean', 'median'])"
   ]
  },
  {
   "cell_type": "code",
   "execution_count": 52,
   "id": "c04a9006-4b19-4e9b-98d4-f7e4660b1936",
   "metadata": {},
   "outputs": [
    {
     "data": {
      "text/html": [
       "<div>\n",
       "<style scoped>\n",
       "    .dataframe tbody tr th:only-of-type {\n",
       "        vertical-align: middle;\n",
       "    }\n",
       "\n",
       "    .dataframe tbody tr th {\n",
       "        vertical-align: top;\n",
       "    }\n",
       "\n",
       "    .dataframe thead th {\n",
       "        text-align: right;\n",
       "    }\n",
       "</style>\n",
       "<table border=\"1\" class=\"dataframe\">\n",
       "  <thead>\n",
       "    <tr style=\"text-align: right;\">\n",
       "      <th></th>\n",
       "      <th>mean</th>\n",
       "      <th>median</th>\n",
       "      <th>std</th>\n",
       "      <th>nunique</th>\n",
       "    </tr>\n",
       "    <tr>\n",
       "      <th>AgeGroup</th>\n",
       "      <th></th>\n",
       "      <th></th>\n",
       "      <th></th>\n",
       "      <th></th>\n",
       "    </tr>\n",
       "  </thead>\n",
       "  <tbody>\n",
       "    <tr>\n",
       "      <th>01-04 Years</th>\n",
       "      <td>383.226050</td>\n",
       "      <td>109.1</td>\n",
       "      <td>500.454211</td>\n",
       "      <td>117</td>\n",
       "    </tr>\n",
       "    <tr>\n",
       "      <th>05-09 Years</th>\n",
       "      <td>117.326050</td>\n",
       "      <td>48.4</td>\n",
       "      <td>127.474958</td>\n",
       "      <td>115</td>\n",
       "    </tr>\n",
       "    <tr>\n",
       "      <th>10-14 Years</th>\n",
       "      <td>93.769748</td>\n",
       "      <td>44.6</td>\n",
       "      <td>88.404363</td>\n",
       "      <td>115</td>\n",
       "    </tr>\n",
       "    <tr>\n",
       "      <th>15-19 Years</th>\n",
       "      <td>177.374790</td>\n",
       "      <td>106.9</td>\n",
       "      <td>138.362290</td>\n",
       "      <td>117</td>\n",
       "    </tr>\n",
       "  </tbody>\n",
       "</table>\n",
       "</div>"
      ],
      "text/plain": [
       "                   mean  median         std  nunique\n",
       "AgeGroup                                            \n",
       "01-04 Years  383.226050   109.1  500.454211      117\n",
       "05-09 Years  117.326050    48.4  127.474958      115\n",
       "10-14 Years   93.769748    44.6   88.404363      115\n",
       "15-19 Years  177.374790   106.9  138.362290      117"
      ]
     },
     "execution_count": 52,
     "metadata": {},
     "output_type": "execute_result"
    }
   ],
   "source": [
    "# group agegroup, then using agg() func, aggregate only deathrate col\n",
    "mortality_data.groupby('AgeGroup')['DeathRate'].agg(['mean', 'median', 'std', 'nunique'])"
   ]
  },
  {
   "cell_type": "code",
   "execution_count": 53,
   "id": "2e59e943-0f42-485f-901c-f258099c6da8",
   "metadata": {},
   "outputs": [
    {
     "data": {
      "text/html": [
       "<div>\n",
       "<style scoped>\n",
       "    .dataframe tbody tr th:only-of-type {\n",
       "        vertical-align: middle;\n",
       "    }\n",
       "\n",
       "    .dataframe tbody tr th {\n",
       "        vertical-align: top;\n",
       "    }\n",
       "\n",
       "    .dataframe thead th {\n",
       "        text-align: right;\n",
       "    }\n",
       "</style>\n",
       "<table border=\"1\" class=\"dataframe\">\n",
       "  <thead>\n",
       "    <tr style=\"text-align: right;\">\n",
       "      <th></th>\n",
       "      <th>mean</th>\n",
       "      <th>median</th>\n",
       "      <th>std</th>\n",
       "      <th>min</th>\n",
       "      <th>max</th>\n",
       "      <th>var</th>\n",
       "      <th>nunique</th>\n",
       "    </tr>\n",
       "    <tr>\n",
       "      <th>Year</th>\n",
       "      <th></th>\n",
       "      <th></th>\n",
       "      <th></th>\n",
       "      <th></th>\n",
       "      <th></th>\n",
       "      <th></th>\n",
       "      <th></th>\n",
       "    </tr>\n",
       "  </thead>\n",
       "  <tbody>\n",
       "    <tr>\n",
       "      <th>1900</th>\n",
       "      <td>808.250</td>\n",
       "      <td>475.45</td>\n",
       "      <td>788.173697</td>\n",
       "      <td>298.3</td>\n",
       "      <td>1983.8</td>\n",
       "      <td>621217.776667</td>\n",
       "      <td>4</td>\n",
       "    </tr>\n",
       "    <tr>\n",
       "      <th>1901</th>\n",
       "      <td>712.650</td>\n",
       "      <td>441.00</td>\n",
       "      <td>659.727972</td>\n",
       "      <td>273.6</td>\n",
       "      <td>1695.0</td>\n",
       "      <td>435240.996667</td>\n",
       "      <td>4</td>\n",
       "    </tr>\n",
       "    <tr>\n",
       "      <th>1902</th>\n",
       "      <td>683.250</td>\n",
       "      <td>412.40</td>\n",
       "      <td>652.709642</td>\n",
       "      <td>252.5</td>\n",
       "      <td>1655.7</td>\n",
       "      <td>426029.876667</td>\n",
       "      <td>4</td>\n",
       "    </tr>\n",
       "    <tr>\n",
       "      <th>1903</th>\n",
       "      <td>664.775</td>\n",
       "      <td>424.40</td>\n",
       "      <td>589.553319</td>\n",
       "      <td>268.2</td>\n",
       "      <td>1542.1</td>\n",
       "      <td>347573.115833</td>\n",
       "      <td>4</td>\n",
       "    </tr>\n",
       "    <tr>\n",
       "      <th>1904</th>\n",
       "      <td>698.275</td>\n",
       "      <td>448.20</td>\n",
       "      <td>599.586065</td>\n",
       "      <td>305.2</td>\n",
       "      <td>1591.5</td>\n",
       "      <td>359503.449167</td>\n",
       "      <td>4</td>\n",
       "    </tr>\n",
       "    <tr>\n",
       "      <th>...</th>\n",
       "      <td>...</td>\n",
       "      <td>...</td>\n",
       "      <td>...</td>\n",
       "      <td>...</td>\n",
       "      <td>...</td>\n",
       "      <td>...</td>\n",
       "      <td>...</td>\n",
       "    </tr>\n",
       "    <tr>\n",
       "      <th>2014</th>\n",
       "      <td>23.750</td>\n",
       "      <td>19.00</td>\n",
       "      <td>15.473095</td>\n",
       "      <td>11.5</td>\n",
       "      <td>45.5</td>\n",
       "      <td>239.416667</td>\n",
       "      <td>4</td>\n",
       "    </tr>\n",
       "    <tr>\n",
       "      <th>2015</th>\n",
       "      <td>24.875</td>\n",
       "      <td>19.75</td>\n",
       "      <td>16.612119</td>\n",
       "      <td>11.7</td>\n",
       "      <td>48.3</td>\n",
       "      <td>275.962500</td>\n",
       "      <td>4</td>\n",
       "    </tr>\n",
       "    <tr>\n",
       "      <th>2016</th>\n",
       "      <td>25.825</td>\n",
       "      <td>19.95</td>\n",
       "      <td>17.849440</td>\n",
       "      <td>12.2</td>\n",
       "      <td>51.2</td>\n",
       "      <td>318.602500</td>\n",
       "      <td>4</td>\n",
       "    </tr>\n",
       "    <tr>\n",
       "      <th>2017</th>\n",
       "      <td>25.725</td>\n",
       "      <td>19.90</td>\n",
       "      <td>17.985619</td>\n",
       "      <td>11.6</td>\n",
       "      <td>51.5</td>\n",
       "      <td>323.482500</td>\n",
       "      <td>4</td>\n",
       "    </tr>\n",
       "    <tr>\n",
       "      <th>2018</th>\n",
       "      <td>24.900</td>\n",
       "      <td>19.45</td>\n",
       "      <td>17.037801</td>\n",
       "      <td>11.5</td>\n",
       "      <td>49.2</td>\n",
       "      <td>290.286667</td>\n",
       "      <td>4</td>\n",
       "    </tr>\n",
       "  </tbody>\n",
       "</table>\n",
       "<p>119 rows × 7 columns</p>\n",
       "</div>"
      ],
      "text/plain": [
       "         mean  median         std    min     max            var  nunique\n",
       "Year                                                                    \n",
       "1900  808.250  475.45  788.173697  298.3  1983.8  621217.776667        4\n",
       "1901  712.650  441.00  659.727972  273.6  1695.0  435240.996667        4\n",
       "1902  683.250  412.40  652.709642  252.5  1655.7  426029.876667        4\n",
       "1903  664.775  424.40  589.553319  268.2  1542.1  347573.115833        4\n",
       "1904  698.275  448.20  599.586065  305.2  1591.5  359503.449167        4\n",
       "...       ...     ...         ...    ...     ...            ...      ...\n",
       "2014   23.750   19.00   15.473095   11.5    45.5     239.416667        4\n",
       "2015   24.875   19.75   16.612119   11.7    48.3     275.962500        4\n",
       "2016   25.825   19.95   17.849440   12.2    51.2     318.602500        4\n",
       "2017   25.725   19.90   17.985619   11.6    51.5     323.482500        4\n",
       "2018   24.900   19.45   17.037801   11.5    49.2     290.286667        4\n",
       "\n",
       "[119 rows x 7 columns]"
      ]
     },
     "execution_count": 53,
     "metadata": {},
     "output_type": "execute_result"
    }
   ],
   "source": [
    "# group year, then using agg() func, aggregate only deathrate col\n",
    "mortality_data.groupby('Year')['DeathRate'].agg(['mean', 'median', 'std', 'min', 'max', 'var', 'nunique'])"
   ]
  },
  {
   "cell_type": "markdown",
   "id": "0f4c2835-75cb-4a6c-b58b-29fbf01ce666",
   "metadata": {},
   "source": [
    "### Visualize Data\n",
    "\n",
    "**Note:** There is no best way to visualize data."
   ]
  },
  {
   "cell_type": "code",
   "execution_count": 54,
   "id": "3edc9f4a-d414-4d8b-8f13-bdadd7fa068b",
   "metadata": {},
   "outputs": [
    {
     "data": {
      "text/plain": [
       "<Axes: xlabel='Year'>"
      ]
     },
     "execution_count": 54,
     "metadata": {},
     "output_type": "execute_result"
    },
    {
     "data": {
      "image/png": "[encoded data removed]",
      "text/plain": [
       "<Figure size 640x480 with 1 Axes>"
      ]
     },
     "metadata": {},
     "output_type": "display_data"
    }
   ],
   "source": [
    "# pivot mortality_data DF using the paramaters\n",
    "# index: year\n",
    "# column: agegroup\n",
    "# values: all remaining cols to populate dataframes values\n",
    "mortality_data.pivot(index='Year',columns='AgeGroup')['DeathRate'].plot()"
   ]
  },
  {
   "cell_type": "code",
   "execution_count": null,
   "id": "4518e9c7-b614-444c-9a39-2568ccf81a00",
   "metadata": {},
   "outputs": [],
   "source": []
  }
 ],
 "metadata": {
  "kernelspec": {
   "display_name": "Python 3 (ipykernel)",
   "language": "python",
   "name": "python3"
  },
  "language_info": {
   "codemirror_mode": {
    "name": "ipython",
    "version": 3
   },
   "file_extension": ".py",
   "mimetype": "text/x-python",
   "name": "python",
   "nbconvert_exporter": "python",
   "pygments_lexer": "ipython3",
   "version": "3.11.7"
  }
 },
 "nbformat": 4,
 "nbformat_minor": 5
}
